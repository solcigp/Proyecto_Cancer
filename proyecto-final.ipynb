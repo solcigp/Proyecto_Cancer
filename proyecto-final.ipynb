{
  "nbformat": 4,
  "nbformat_minor": 0,
  "metadata": {
    "colab": {
      "provenance": [],
      "include_colab_link": true
    },
    "kernelspec": {
      "name": "python3",
      "display_name": "Python 3"
    },
    "language_info": {
      "name": "python"
    }
  },
  "cells": [
    {
      "cell_type": "markdown",
      "metadata": {
        "id": "view-in-github",
        "colab_type": "text"
      },
      "source": [
        "<a href=\"https://colab.research.google.com/gist/solcigp/b510f4c2ebe6fa08627ca6fea380677d/proyecto-final.ipynb\" target=\"_parent\"><img src=\"https://colab.research.google.com/assets/colab-badge.svg\" alt=\"Open In Colab\"/></a>"
      ]
    },
    {
      "cell_type": "markdown",
      "source": [
        "#Cancer de Mamas\n",
        "\n",
        "URL Del Dataset https://www.kaggle.com/datasets/gunesevitan/breast-cancer-metabric\n",
        "\n",
        "Objetivo (Abstract) En base a los datos tales como las características del cáncer de los diferentes pacientes (como así también el tratamiento que se siguió) vamos a buscar demostrar la efectividad de algunos tratamientos sobre otros en base a las características de los pacientes. En este dataset vamos a poder trabajar con valores asociados a tipos de tratamiento, edades, tamaños, la fase de la enfermedad, entre otros. Creemos que con la información con la que contamos podemos obtener una base para obtener sugerencias de tratamientos y su grado de efectividad dependiendo del estado de la enfermedad. Además, contamos con algunas variables que podrían ser interesantes para el uso en nuestro proyecto. Algunas de ellas son por ej., la edad (para encontrar una relación entre el cáncer y los diferentes rangos etáreos), los diferentes tipos de cáncer buscando clasificarlos, el subtipo de cáncer (según el grado de afectación en cada paciente), la lateralidad del tumor (buscando relación con otras variables según la ubicación del cáncer) y por último, pero no por ello menos importante, el overall survival status (o % de sobreviviente) para cuantificar cuántos pudieron atravesarlo de manera exitosa. De esta manera buscaremos responder algunas preguntas del tipo:\n",
        "\n",
        "¿Hay una relación entre el tratamiento de la quimioterapia y la supevivencia de las pacientes? ¿Hay una relación entre el tamaño del turmor y la supervivencia? Estas preguntas fueron abordadas a consideración de los gráficos que se pudieron lograr mediante el uso de diferentes librerías y fundamentadas en el dataset elegido. Como se podrá verificar en los diferentes gráficos, existen algunos fundamentos que permiten correlacionar distintas variables para inferir conclusiones relativas al tratamiento del Cáncer de mamas. Asimismo, en otras ocasiones no se pudo concluir de manera determinante que existiera una relación y en consecuencia, no se arribó a una conclusión tajante. Por lo anteriormente expresado, podemos decir que existen ciertos aspectos que son determinantes para demostrar una relación entre la enfermedad y sus diferentes variables (como en la Fase del Tumor detectado vs Tamaño del Tumor según edades) y otras en la que la evidencia es muy pareja en la muestra (Edad del Diagnostico vs Estado Vital)\n",
        "\n",
        "La idea sería construir un modelo predictivo para proveer de las mejores alternativas posibles en base al estado general del paciente y el avance de la enfermedad."
      ],
      "metadata": {
        "id": "hMqocruFB6EQ"
      }
    },
    {
      "cell_type": "markdown",
      "source": [
        "##Contexto Comercial\n",
        "\n",
        "Esta enfermedad se manifiesta de diversas maneras en los pacientes y así también son las maneras de tratarla, a partir de la información provista por el dataset quisieramos inferir ¿cúal es el mejor tratamiento en base a las caracteristicas genereles del paciente?\n",
        "\n",
        "\n",
        "##Problema Comercial\n",
        "\n",
        "¿Hay un tratamiento y/o combinación de factores que determinen una mayor probabilidad de éxito en la lucha con la enfermdedad?"
      ],
      "metadata": {
        "id": "Xl3wWgyMB96b"
      }
    },
    {
      "cell_type": "code",
      "execution_count": null,
      "metadata": {
        "colab": {
          "base_uri": "https://localhost:8080/"
        },
        "id": "IyhExGTc3MRY",
        "outputId": "03ed282b-93f6-4ea5-a8cb-ef9a4f0a6b88"
      },
      "outputs": [
        {
          "output_type": "stream",
          "name": "stdout",
          "text": [
            "Mounted at /content/drive\n"
          ]
        }
      ],
      "source": [
        "#Acceso a Google Drive\n",
        "from google.colab import drive\n",
        "drive.mount('/content/drive')\n",
        "from pydrive.auth import GoogleAuth\n",
        "from pydrive.drive import GoogleDrive\n",
        "from google.colab import auth\n",
        "from oauth2client.client import GoogleCredentials\n",
        " "
      ]
    },
    {
      "cell_type": "code",
      "source": [
        "#1. Instala las librerias\n",
        "! pip3 install kaggle\n",
        "! pip3 install featuretools\n",
        "! pip3 install chart_studio # era parte de plotly, ahora es independiente\n",
        "! pip3 install bqplot # para hacer dinamicos los graficos en colab\n",
        "! pip3 install pingouin # paquetes estadistico para hacer pruebas estadisticas\n",
        "\n",
        "#2. Crea el directorio .kaggle\n",
        "! mkdir ~/.kaggle\n",
        "\n",
        "#3. Copia el archivo “kaggle.json” a la carpeta nueva\n",
        "! cp kaggle.json ~/.kaggle/\n",
        "\n",
        "#4. Cambia los permisos para el arvhivo\n",
        "! chmod 600 ~/.kaggle/kaggle.json\n",
        "\n",
        "#5. API de GoogleDrive\n",
        "! pip3 install -U -q PyDrive"
      ],
      "metadata": {
        "colab": {
          "base_uri": "https://localhost:8080/"
        },
        "id": "GWOSO3uj3Ssk",
        "outputId": "dc3d4894-69cd-4596-b96d-5161c3c11799"
      },
      "execution_count": null,
      "outputs": [
        {
          "output_type": "stream",
          "name": "stdout",
          "text": [
            "Looking in indexes: https://pypi.org/simple, https://us-python.pkg.dev/colab-wheels/public/simple/\n",
            "Requirement already satisfied: kaggle in /usr/local/lib/python3.8/dist-packages (1.5.12)\n",
            "Requirement already satisfied: tqdm in /usr/local/lib/python3.8/dist-packages (from kaggle) (4.64.1)\n",
            "Requirement already satisfied: python-slugify in /usr/local/lib/python3.8/dist-packages (from kaggle) (7.0.0)\n",
            "Requirement already satisfied: requests in /usr/local/lib/python3.8/dist-packages (from kaggle) (2.25.1)\n",
            "Requirement already satisfied: six>=1.10 in /usr/local/lib/python3.8/dist-packages (from kaggle) (1.15.0)\n",
            "Requirement already satisfied: certifi in /usr/local/lib/python3.8/dist-packages (from kaggle) (2022.12.7)\n",
            "Requirement already satisfied: python-dateutil in /usr/local/lib/python3.8/dist-packages (from kaggle) (2.8.2)\n",
            "Requirement already satisfied: urllib3 in /usr/local/lib/python3.8/dist-packages (from kaggle) (1.24.3)\n",
            "Requirement already satisfied: text-unidecode>=1.3 in /usr/local/lib/python3.8/dist-packages (from python-slugify->kaggle) (1.3)\n",
            "Requirement already satisfied: chardet<5,>=3.0.2 in /usr/local/lib/python3.8/dist-packages (from requests->kaggle) (4.0.0)\n",
            "Requirement already satisfied: idna<3,>=2.5 in /usr/local/lib/python3.8/dist-packages (from requests->kaggle) (2.10)\n",
            "Looking in indexes: https://pypi.org/simple, https://us-python.pkg.dev/colab-wheels/public/simple/\n",
            "Requirement already satisfied: featuretools in /usr/local/lib/python3.8/dist-packages (1.21.0)\n",
            "Requirement already satisfied: numpy>=1.21.0 in /usr/local/lib/python3.8/dist-packages (from featuretools) (1.21.6)\n",
            "Requirement already satisfied: packaging>=20.0 in /usr/local/lib/python3.8/dist-packages (from featuretools) (21.3)\n",
            "Requirement already satisfied: holidays>=0.13 in /usr/local/lib/python3.8/dist-packages (from featuretools) (0.18)\n",
            "Requirement already satisfied: cloudpickle>=1.5.0 in /usr/local/lib/python3.8/dist-packages (from featuretools) (2.2.0)\n",
            "Requirement already satisfied: psutil>=5.6.6 in /usr/local/lib/python3.8/dist-packages (from featuretools) (5.9.4)\n",
            "Requirement already satisfied: dask[dataframe]!=2022.10.1,>=2022.2.0 in /usr/local/lib/python3.8/dist-packages (from featuretools) (2022.2.1)\n",
            "Requirement already satisfied: distributed!=2022.10.1,>=2022.2.0 in /usr/local/lib/python3.8/dist-packages (from featuretools) (2022.2.1)\n",
            "Requirement already satisfied: woodwork[dask]>=0.18.0 in /usr/local/lib/python3.8/dist-packages (from featuretools) (0.21.2)\n",
            "Requirement already satisfied: scipy>=1.4.0 in /usr/local/lib/python3.8/dist-packages (from featuretools) (1.7.3)\n",
            "Requirement already satisfied: tqdm>=4.32.0 in /usr/local/lib/python3.8/dist-packages (from featuretools) (4.64.1)\n",
            "Requirement already satisfied: pandas>=1.4.0 in /usr/local/lib/python3.8/dist-packages (from featuretools) (1.5.3)\n",
            "Requirement already satisfied: toolz>=0.8.2 in /usr/local/lib/python3.8/dist-packages (from dask[dataframe]!=2022.10.1,>=2022.2.0->featuretools) (0.12.0)\n",
            "Requirement already satisfied: pyyaml>=5.3.1 in /usr/local/lib/python3.8/dist-packages (from dask[dataframe]!=2022.10.1,>=2022.2.0->featuretools) (6.0)\n",
            "Requirement already satisfied: fsspec>=0.6.0 in /usr/local/lib/python3.8/dist-packages (from dask[dataframe]!=2022.10.1,>=2022.2.0->featuretools) (2022.11.0)\n",
            "Requirement already satisfied: partd>=0.3.10 in /usr/local/lib/python3.8/dist-packages (from dask[dataframe]!=2022.10.1,>=2022.2.0->featuretools) (1.3.0)\n",
            "Requirement already satisfied: sortedcontainers!=2.0.0,!=2.0.1 in /usr/local/lib/python3.8/dist-packages (from distributed!=2022.10.1,>=2022.2.0->featuretools) (2.4.0)\n",
            "Requirement already satisfied: setuptools in /usr/local/lib/python3.8/dist-packages (from distributed!=2022.10.1,>=2022.2.0->featuretools) (57.4.0)\n",
            "Requirement already satisfied: jinja2 in /usr/local/lib/python3.8/dist-packages (from distributed!=2022.10.1,>=2022.2.0->featuretools) (2.11.3)\n",
            "Requirement already satisfied: tornado>=6.0.3 in /usr/local/lib/python3.8/dist-packages (from distributed!=2022.10.1,>=2022.2.0->featuretools) (6.0.4)\n",
            "Requirement already satisfied: msgpack>=0.6.0 in /usr/local/lib/python3.8/dist-packages (from distributed!=2022.10.1,>=2022.2.0->featuretools) (1.0.4)\n",
            "Requirement already satisfied: tblib>=1.6.0 in /usr/local/lib/python3.8/dist-packages (from distributed!=2022.10.1,>=2022.2.0->featuretools) (1.7.0)\n",
            "Requirement already satisfied: click>=6.6 in /usr/local/lib/python3.8/dist-packages (from distributed!=2022.10.1,>=2022.2.0->featuretools) (7.1.2)\n",
            "Requirement already satisfied: zict>=0.1.3 in /usr/local/lib/python3.8/dist-packages (from distributed!=2022.10.1,>=2022.2.0->featuretools) (2.2.0)\n",
            "Requirement already satisfied: PyMeeus in /usr/local/lib/python3.8/dist-packages (from holidays>=0.13->featuretools) (0.5.12)\n",
            "Requirement already satisfied: convertdate>=2.3.0 in /usr/local/lib/python3.8/dist-packages (from holidays>=0.13->featuretools) (2.4.0)\n",
            "Requirement already satisfied: korean-lunar-calendar in /usr/local/lib/python3.8/dist-packages (from holidays>=0.13->featuretools) (0.3.1)\n",
            "Requirement already satisfied: hijri-converter in /usr/local/lib/python3.8/dist-packages (from holidays>=0.13->featuretools) (2.2.4)\n",
            "Requirement already satisfied: python-dateutil in /usr/local/lib/python3.8/dist-packages (from holidays>=0.13->featuretools) (2.8.2)\n",
            "Requirement already satisfied: pyparsing!=3.0.5,>=2.0.2 in /usr/local/lib/python3.8/dist-packages (from packaging>=20.0->featuretools) (3.0.9)\n",
            "Requirement already satisfied: pytz>=2020.1 in /usr/local/lib/python3.8/dist-packages (from pandas>=1.4.0->featuretools) (2022.7)\n",
            "Requirement already satisfied: importlib-resources>=5.10.0 in /usr/local/lib/python3.8/dist-packages (from woodwork[dask]>=0.18.0->featuretools) (5.10.2)\n",
            "Requirement already satisfied: scikit-learn>=0.22 in /usr/local/lib/python3.8/dist-packages (from woodwork[dask]>=0.18.0->featuretools) (1.0.2)\n",
            "Requirement already satisfied: zipp>=3.1.0 in /usr/local/lib/python3.8/dist-packages (from importlib-resources>=5.10.0->woodwork[dask]>=0.18.0->featuretools) (3.11.0)\n",
            "Requirement already satisfied: locket in /usr/local/lib/python3.8/dist-packages (from partd>=0.3.10->dask[dataframe]!=2022.10.1,>=2022.2.0->featuretools) (1.0.0)\n",
            "Requirement already satisfied: six>=1.5 in /usr/local/lib/python3.8/dist-packages (from python-dateutil->holidays>=0.13->featuretools) (1.15.0)\n",
            "Requirement already satisfied: threadpoolctl>=2.0.0 in /usr/local/lib/python3.8/dist-packages (from scikit-learn>=0.22->woodwork[dask]>=0.18.0->featuretools) (3.1.0)\n",
            "Requirement already satisfied: joblib>=0.11 in /usr/local/lib/python3.8/dist-packages (from scikit-learn>=0.22->woodwork[dask]>=0.18.0->featuretools) (1.2.0)\n",
            "Requirement already satisfied: heapdict in /usr/local/lib/python3.8/dist-packages (from zict>=0.1.3->distributed!=2022.10.1,>=2022.2.0->featuretools) (1.0.1)\n",
            "Requirement already satisfied: MarkupSafe>=0.23 in /usr/local/lib/python3.8/dist-packages (from jinja2->distributed!=2022.10.1,>=2022.2.0->featuretools) (2.0.1)\n",
            "Looking in indexes: https://pypi.org/simple, https://us-python.pkg.dev/colab-wheels/public/simple/\n",
            "Requirement already satisfied: chart_studio in /usr/local/lib/python3.8/dist-packages (1.1.0)\n",
            "Requirement already satisfied: requests in /usr/local/lib/python3.8/dist-packages (from chart_studio) (2.25.1)\n",
            "Requirement already satisfied: plotly in /usr/local/lib/python3.8/dist-packages (from chart_studio) (5.5.0)\n",
            "Requirement already satisfied: six in /usr/local/lib/python3.8/dist-packages (from chart_studio) (1.15.0)\n",
            "Requirement already satisfied: retrying>=1.3.3 in /usr/local/lib/python3.8/dist-packages (from chart_studio) (1.3.4)\n",
            "Requirement already satisfied: tenacity>=6.2.0 in /usr/local/lib/python3.8/dist-packages (from plotly->chart_studio) (8.1.0)\n",
            "Requirement already satisfied: certifi>=2017.4.17 in /usr/local/lib/python3.8/dist-packages (from requests->chart_studio) (2022.12.7)\n",
            "Requirement already satisfied: urllib3<1.27,>=1.21.1 in /usr/local/lib/python3.8/dist-packages (from requests->chart_studio) (1.24.3)\n",
            "Requirement already satisfied: idna<3,>=2.5 in /usr/local/lib/python3.8/dist-packages (from requests->chart_studio) (2.10)\n",
            "Requirement already satisfied: chardet<5,>=3.0.2 in /usr/local/lib/python3.8/dist-packages (from requests->chart_studio) (4.0.0)\n",
            "Looking in indexes: https://pypi.org/simple, https://us-python.pkg.dev/colab-wheels/public/simple/\n",
            "Requirement already satisfied: bqplot in /usr/local/lib/python3.8/dist-packages (0.12.36)\n",
            "Requirement already satisfied: traittypes>=0.0.6 in /usr/local/lib/python3.8/dist-packages (from bqplot) (0.2.1)\n",
            "Requirement already satisfied: pandas<2.0.0,>=1.0.0 in /usr/local/lib/python3.8/dist-packages (from bqplot) (1.5.3)\n",
            "Requirement already satisfied: traitlets>=4.3.0 in /usr/local/lib/python3.8/dist-packages (from bqplot) (5.7.1)\n",
            "Requirement already satisfied: ipywidgets<9,>=7.5.0 in /usr/local/lib/python3.8/dist-packages (from bqplot) (7.7.1)\n",
            "Requirement already satisfied: numpy<2.0.0,>=1.10.4 in /usr/local/lib/python3.8/dist-packages (from bqplot) (1.21.6)\n",
            "Requirement already satisfied: ipykernel>=4.5.1 in /usr/local/lib/python3.8/dist-packages (from ipywidgets<9,>=7.5.0->bqplot) (5.3.4)\n",
            "Requirement already satisfied: jupyterlab-widgets>=1.0.0 in /usr/local/lib/python3.8/dist-packages (from ipywidgets<9,>=7.5.0->bqplot) (3.0.5)\n",
            "Requirement already satisfied: widgetsnbextension~=3.6.0 in /usr/local/lib/python3.8/dist-packages (from ipywidgets<9,>=7.5.0->bqplot) (3.6.1)\n",
            "Requirement already satisfied: ipython-genutils~=0.2.0 in /usr/local/lib/python3.8/dist-packages (from ipywidgets<9,>=7.5.0->bqplot) (0.2.0)\n",
            "Requirement already satisfied: ipython>=4.0.0 in /usr/local/lib/python3.8/dist-packages (from ipywidgets<9,>=7.5.0->bqplot) (7.9.0)\n",
            "Requirement already satisfied: python-dateutil>=2.8.1 in /usr/local/lib/python3.8/dist-packages (from pandas<2.0.0,>=1.0.0->bqplot) (2.8.2)\n",
            "Requirement already satisfied: pytz>=2020.1 in /usr/local/lib/python3.8/dist-packages (from pandas<2.0.0,>=1.0.0->bqplot) (2022.7)\n",
            "Requirement already satisfied: jupyter-client in /usr/local/lib/python3.8/dist-packages (from ipykernel>=4.5.1->ipywidgets<9,>=7.5.0->bqplot) (6.1.12)\n",
            "Requirement already satisfied: tornado>=4.2 in /usr/local/lib/python3.8/dist-packages (from ipykernel>=4.5.1->ipywidgets<9,>=7.5.0->bqplot) (6.0.4)\n",
            "Requirement already satisfied: pickleshare in /usr/local/lib/python3.8/dist-packages (from ipython>=4.0.0->ipywidgets<9,>=7.5.0->bqplot) (0.7.5)\n",
            "Requirement already satisfied: pexpect in /usr/local/lib/python3.8/dist-packages (from ipython>=4.0.0->ipywidgets<9,>=7.5.0->bqplot) (4.8.0)\n",
            "Requirement already satisfied: pygments in /usr/local/lib/python3.8/dist-packages (from ipython>=4.0.0->ipywidgets<9,>=7.5.0->bqplot) (2.6.1)\n",
            "Requirement already satisfied: backcall in /usr/local/lib/python3.8/dist-packages (from ipython>=4.0.0->ipywidgets<9,>=7.5.0->bqplot) (0.2.0)\n",
            "Requirement already satisfied: setuptools>=18.5 in /usr/local/lib/python3.8/dist-packages (from ipython>=4.0.0->ipywidgets<9,>=7.5.0->bqplot) (57.4.0)\n",
            "Requirement already satisfied: decorator in /usr/local/lib/python3.8/dist-packages (from ipython>=4.0.0->ipywidgets<9,>=7.5.0->bqplot) (4.4.2)\n",
            "Requirement already satisfied: prompt-toolkit<2.1.0,>=2.0.0 in /usr/local/lib/python3.8/dist-packages (from ipython>=4.0.0->ipywidgets<9,>=7.5.0->bqplot) (2.0.10)\n",
            "Requirement already satisfied: jedi>=0.10 in /usr/local/lib/python3.8/dist-packages (from ipython>=4.0.0->ipywidgets<9,>=7.5.0->bqplot) (0.18.2)\n",
            "Requirement already satisfied: six>=1.5 in /usr/local/lib/python3.8/dist-packages (from python-dateutil>=2.8.1->pandas<2.0.0,>=1.0.0->bqplot) (1.15.0)\n",
            "Requirement already satisfied: notebook>=4.4.1 in /usr/local/lib/python3.8/dist-packages (from widgetsnbextension~=3.6.0->ipywidgets<9,>=7.5.0->bqplot) (5.7.16)\n",
            "Requirement already satisfied: parso<0.9.0,>=0.8.0 in /usr/local/lib/python3.8/dist-packages (from jedi>=0.10->ipython>=4.0.0->ipywidgets<9,>=7.5.0->bqplot) (0.8.3)\n",
            "Requirement already satisfied: jinja2<=3.0.0 in /usr/local/lib/python3.8/dist-packages (from notebook>=4.4.1->widgetsnbextension~=3.6.0->ipywidgets<9,>=7.5.0->bqplot) (2.11.3)\n",
            "Requirement already satisfied: nbconvert<6.0 in /usr/local/lib/python3.8/dist-packages (from notebook>=4.4.1->widgetsnbextension~=3.6.0->ipywidgets<9,>=7.5.0->bqplot) (5.6.1)\n",
            "Requirement already satisfied: Send2Trash in /usr/local/lib/python3.8/dist-packages (from notebook>=4.4.1->widgetsnbextension~=3.6.0->ipywidgets<9,>=7.5.0->bqplot) (1.8.0)\n",
            "Requirement already satisfied: nbformat in /usr/local/lib/python3.8/dist-packages (from notebook>=4.4.1->widgetsnbextension~=3.6.0->ipywidgets<9,>=7.5.0->bqplot) (5.7.1)\n",
            "Requirement already satisfied: terminado>=0.8.1 in /usr/local/lib/python3.8/dist-packages (from notebook>=4.4.1->widgetsnbextension~=3.6.0->ipywidgets<9,>=7.5.0->bqplot) (0.13.3)\n",
            "Requirement already satisfied: jupyter-core>=4.4.0 in /usr/local/lib/python3.8/dist-packages (from notebook>=4.4.1->widgetsnbextension~=3.6.0->ipywidgets<9,>=7.5.0->bqplot) (5.1.3)\n",
            "Requirement already satisfied: pyzmq>=17 in /usr/local/lib/python3.8/dist-packages (from notebook>=4.4.1->widgetsnbextension~=3.6.0->ipywidgets<9,>=7.5.0->bqplot) (23.2.1)\n",
            "Requirement already satisfied: prometheus-client in /usr/local/lib/python3.8/dist-packages (from notebook>=4.4.1->widgetsnbextension~=3.6.0->ipywidgets<9,>=7.5.0->bqplot) (0.15.0)\n",
            "Requirement already satisfied: wcwidth in /usr/local/lib/python3.8/dist-packages (from prompt-toolkit<2.1.0,>=2.0.0->ipython>=4.0.0->ipywidgets<9,>=7.5.0->bqplot) (0.2.5)\n",
            "Requirement already satisfied: ptyprocess>=0.5 in /usr/local/lib/python3.8/dist-packages (from pexpect->ipython>=4.0.0->ipywidgets<9,>=7.5.0->bqplot) (0.7.0)\n",
            "Requirement already satisfied: MarkupSafe>=0.23 in /usr/local/lib/python3.8/dist-packages (from jinja2<=3.0.0->notebook>=4.4.1->widgetsnbextension~=3.6.0->ipywidgets<9,>=7.5.0->bqplot) (2.0.1)\n",
            "Requirement already satisfied: platformdirs>=2.5 in /usr/local/lib/python3.8/dist-packages (from jupyter-core>=4.4.0->notebook>=4.4.1->widgetsnbextension~=3.6.0->ipywidgets<9,>=7.5.0->bqplot) (2.6.2)\n",
            "Requirement already satisfied: testpath in /usr/local/lib/python3.8/dist-packages (from nbconvert<6.0->notebook>=4.4.1->widgetsnbextension~=3.6.0->ipywidgets<9,>=7.5.0->bqplot) (0.6.0)\n",
            "Requirement already satisfied: mistune<2,>=0.8.1 in /usr/local/lib/python3.8/dist-packages (from nbconvert<6.0->notebook>=4.4.1->widgetsnbextension~=3.6.0->ipywidgets<9,>=7.5.0->bqplot) (0.8.4)\n",
            "Requirement already satisfied: entrypoints>=0.2.2 in /usr/local/lib/python3.8/dist-packages (from nbconvert<6.0->notebook>=4.4.1->widgetsnbextension~=3.6.0->ipywidgets<9,>=7.5.0->bqplot) (0.4)\n",
            "Requirement already satisfied: bleach in /usr/local/lib/python3.8/dist-packages (from nbconvert<6.0->notebook>=4.4.1->widgetsnbextension~=3.6.0->ipywidgets<9,>=7.5.0->bqplot) (5.0.1)\n",
            "Requirement already satisfied: defusedxml in /usr/local/lib/python3.8/dist-packages (from nbconvert<6.0->notebook>=4.4.1->widgetsnbextension~=3.6.0->ipywidgets<9,>=7.5.0->bqplot) (0.7.1)\n",
            "Requirement already satisfied: pandocfilters>=1.4.1 in /usr/local/lib/python3.8/dist-packages (from nbconvert<6.0->notebook>=4.4.1->widgetsnbextension~=3.6.0->ipywidgets<9,>=7.5.0->bqplot) (1.5.0)\n",
            "Requirement already satisfied: fastjsonschema in /usr/local/lib/python3.8/dist-packages (from nbformat->notebook>=4.4.1->widgetsnbextension~=3.6.0->ipywidgets<9,>=7.5.0->bqplot) (2.16.2)\n",
            "Requirement already satisfied: jsonschema>=2.6 in /usr/local/lib/python3.8/dist-packages (from nbformat->notebook>=4.4.1->widgetsnbextension~=3.6.0->ipywidgets<9,>=7.5.0->bqplot) (4.3.3)\n",
            "Requirement already satisfied: attrs>=17.4.0 in /usr/local/lib/python3.8/dist-packages (from jsonschema>=2.6->nbformat->notebook>=4.4.1->widgetsnbextension~=3.6.0->ipywidgets<9,>=7.5.0->bqplot) (22.2.0)\n",
            "Requirement already satisfied: pyrsistent!=0.17.0,!=0.17.1,!=0.17.2,>=0.14.0 in /usr/local/lib/python3.8/dist-packages (from jsonschema>=2.6->nbformat->notebook>=4.4.1->widgetsnbextension~=3.6.0->ipywidgets<9,>=7.5.0->bqplot) (0.19.3)\n",
            "Requirement already satisfied: importlib-resources>=1.4.0 in /usr/local/lib/python3.8/dist-packages (from jsonschema>=2.6->nbformat->notebook>=4.4.1->widgetsnbextension~=3.6.0->ipywidgets<9,>=7.5.0->bqplot) (5.10.2)\n",
            "Requirement already satisfied: webencodings in /usr/local/lib/python3.8/dist-packages (from bleach->nbconvert<6.0->notebook>=4.4.1->widgetsnbextension~=3.6.0->ipywidgets<9,>=7.5.0->bqplot) (0.5.1)\n",
            "Requirement already satisfied: zipp>=3.1.0 in /usr/local/lib/python3.8/dist-packages (from importlib-resources>=1.4.0->jsonschema>=2.6->nbformat->notebook>=4.4.1->widgetsnbextension~=3.6.0->ipywidgets<9,>=7.5.0->bqplot) (3.11.0)\n",
            "Looking in indexes: https://pypi.org/simple, https://us-python.pkg.dev/colab-wheels/public/simple/\n",
            "Requirement already satisfied: pingouin in /usr/local/lib/python3.8/dist-packages (0.5.3)\n",
            "Requirement already satisfied: numpy>=1.19 in /usr/local/lib/python3.8/dist-packages (from pingouin) (1.21.6)\n",
            "Requirement already satisfied: seaborn>=0.11 in /usr/local/lib/python3.8/dist-packages (from pingouin) (0.11.2)\n",
            "Requirement already satisfied: pandas-flavor>=0.2.0 in /usr/local/lib/python3.8/dist-packages (from pingouin) (0.3.0)\n",
            "Requirement already satisfied: matplotlib>=3.0.2 in /usr/local/lib/python3.8/dist-packages (from pingouin) (3.2.2)\n",
            "Requirement already satisfied: scipy>=1.7 in /usr/local/lib/python3.8/dist-packages (from pingouin) (1.7.3)\n",
            "Requirement already satisfied: outdated in /usr/local/lib/python3.8/dist-packages (from pingouin) (0.2.2)\n",
            "Requirement already satisfied: statsmodels>=0.13 in /usr/local/lib/python3.8/dist-packages (from pingouin) (0.13.5)\n",
            "Requirement already satisfied: pandas>=1.0 in /usr/local/lib/python3.8/dist-packages (from pingouin) (1.5.3)\n",
            "Requirement already satisfied: tabulate in /usr/local/lib/python3.8/dist-packages (from pingouin) (0.8.10)\n",
            "Requirement already satisfied: scikit-learn in /usr/local/lib/python3.8/dist-packages (from pingouin) (1.0.2)\n",
            "Requirement already satisfied: pyparsing!=2.0.4,!=2.1.2,!=2.1.6,>=2.0.1 in /usr/local/lib/python3.8/dist-packages (from matplotlib>=3.0.2->pingouin) (3.0.9)\n",
            "Requirement already satisfied: kiwisolver>=1.0.1 in /usr/local/lib/python3.8/dist-packages (from matplotlib>=3.0.2->pingouin) (1.4.4)\n",
            "Requirement already satisfied: cycler>=0.10 in /usr/local/lib/python3.8/dist-packages (from matplotlib>=3.0.2->pingouin) (0.11.0)\n",
            "Requirement already satisfied: python-dateutil>=2.1 in /usr/local/lib/python3.8/dist-packages (from matplotlib>=3.0.2->pingouin) (2.8.2)\n",
            "Requirement already satisfied: pytz>=2020.1 in /usr/local/lib/python3.8/dist-packages (from pandas>=1.0->pingouin) (2022.7)\n",
            "Requirement already satisfied: xarray in /usr/local/lib/python3.8/dist-packages (from pandas-flavor>=0.2.0->pingouin) (2022.12.0)\n",
            "Requirement already satisfied: lazy-loader==0.1rc2 in /usr/local/lib/python3.8/dist-packages (from pandas-flavor>=0.2.0->pingouin) (0.1rc2)\n",
            "Requirement already satisfied: packaging>=21.3 in /usr/local/lib/python3.8/dist-packages (from statsmodels>=0.13->pingouin) (21.3)\n",
            "Requirement already satisfied: patsy>=0.5.2 in /usr/local/lib/python3.8/dist-packages (from statsmodels>=0.13->pingouin) (0.5.3)\n",
            "Requirement already satisfied: littleutils in /usr/local/lib/python3.8/dist-packages (from outdated->pingouin) (0.2.2)\n",
            "Requirement already satisfied: requests in /usr/local/lib/python3.8/dist-packages (from outdated->pingouin) (2.25.1)\n",
            "Requirement already satisfied: setuptools>=44 in /usr/local/lib/python3.8/dist-packages (from outdated->pingouin) (57.4.0)\n",
            "Requirement already satisfied: joblib>=0.11 in /usr/local/lib/python3.8/dist-packages (from scikit-learn->pingouin) (1.2.0)\n",
            "Requirement already satisfied: threadpoolctl>=2.0.0 in /usr/local/lib/python3.8/dist-packages (from scikit-learn->pingouin) (3.1.0)\n",
            "Requirement already satisfied: six in /usr/local/lib/python3.8/dist-packages (from patsy>=0.5.2->statsmodels>=0.13->pingouin) (1.15.0)\n",
            "Requirement already satisfied: chardet<5,>=3.0.2 in /usr/local/lib/python3.8/dist-packages (from requests->outdated->pingouin) (4.0.0)\n",
            "Requirement already satisfied: certifi>=2017.4.17 in /usr/local/lib/python3.8/dist-packages (from requests->outdated->pingouin) (2022.12.7)\n",
            "Requirement already satisfied: idna<3,>=2.5 in /usr/local/lib/python3.8/dist-packages (from requests->outdated->pingouin) (2.10)\n",
            "Requirement already satisfied: urllib3<1.27,>=1.21.1 in /usr/local/lib/python3.8/dist-packages (from requests->outdated->pingouin) (1.24.3)\n",
            "mkdir: cannot create directory ‘/root/.kaggle’: File exists\n",
            "cp: cannot stat 'kaggle.json': No such file or directory\n"
          ]
        }
      ]
    },
    {
      "cell_type": "code",
      "source": [
        "#IMPORTACIÓN LIBRERIAS\n",
        "\n",
        "import pandas as pd\n",
        "from scipy import stats\n",
        "import numpy as np\n",
        "import matplotlib as mpl\n",
        "import matplotlib.pyplot as plt\n",
        "import seaborn as sns\n",
        "import statsmodels.formula.api as smf\n",
        "import chart_studio.plotly as py\n",
        "from bokeh.resources import INLINE\n",
        "import bokeh.io\n",
        "from bokeh import *\n",
        "import pingouin\n",
        "bokeh.io.output_notebook(INLINE)\n",
        "from bokeh.models import Scatter\n",
        "# featuretools para automatizar feature engineering\n",
        "#matplotlit y  seaborn para visualizaciones\n",
        "import matplotlib.pyplot as plt\n",
        "plt.rcParams['font.size'] = 22\n",
        "import seaborn as sns\n",
        "#Warnings de Pandas\n",
        "import warnings\n",
        "warnings.filterwarnings('ignore')\n",
        "#Modelado\n",
        "import lightgbm as lgb\n",
        "#Uttilidades\n",
        "from sklearn.model_selection import train_test_split\n",
        "from sklearn.model_selection import KFold\n",
        "from sklearn.metrics import roc_auc_score\n",
        "from sklearn.preprocessing import LabelEncoder\n",
        "#Manejo de memoria\n",
        "import gc\n",
        "from sklearn.model_selection import KFold, StratifiedKFold, cross_val_score\n",
        "from sklearn import linear_model, tree, ensemble"
      ],
      "metadata": {
        "id": "sjtdNGC_4RwC"
      },
      "execution_count": null,
      "outputs": []
    },
    {
      "cell_type": "markdown",
      "source": [
        "#EDA"
      ],
      "metadata": {
        "id": "PJ6-Gn9ACPPp"
      }
    },
    {
      "cell_type": "markdown",
      "source": [
        "#Contexto analítico - Preparación del dataset\n",
        "\n",
        "El mismo cuenta con 2509 registros.\n",
        "\n",
        "La información del dataset se compone de perfiles médicos de distintos pacientes y como transitan, o transitaron la enfermedad, los tratamientos que realizaron, la variante y fase de la misma, etc.\n",
        "\n",
        "Los datos que proveen los mismos son de diversos tipos:\n",
        "\n",
        "continuos (edad)\n",
        "lógicos (quimioterapia)\n",
        "categoricos (celularidad)"
      ],
      "metadata": {
        "id": "OzAh4s-9Cu4_"
      }
    },
    {
      "cell_type": "markdown",
      "source": [
        "Análisis de algunas Variables\n",
        "Vamos a trabajar con las siguientes columnas:\n",
        "Age At Diagnosis - Edad en la que obtuvo el diagnostico\n",
        "\n",
        "Cancer Type - Tipo de Cancer\n",
        "\n",
        "Type of Breast Surgery - Subtipo de cancer\n",
        "\n",
        "Cancer Type Detailed - Tipo de Cancer Específico\n",
        "\n",
        "Cellularity - Proporción del cancer residual en el paciente\n",
        "\n",
        "Chemotherapy - Determina si el paciente realizó quimioterapia o no\n",
        "\n",
        "Neoplasm Histologic Grade - Esta columna determina la graduación del tipo de tumor, permite determinar la velocidad de mutación de las celulas\n",
        "\n",
        "Mutation Count - Este indicador puede servir como un marcador biológico para predecir si el paciente va a responder a la quimioterapia o la inmunoterapia\n",
        "\n",
        "Overall Survival (Months) - Supervivencia en general medida en meses\n",
        "\n",
        "Overall Survival Status - Estado actual de supervivencia del paciente\n",
        "\n",
        "Relapse Free Status (Months) - Tiempo en meses libre de recaida\n",
        "\n",
        "Relapse Free Status - Estado del paciente si sigue sin recaidas o no.\n",
        "\n",
        "Tumor Size - Tamaño del tumor\n",
        "\n",
        "Tumor Stage - Fase en la que se encuentra la enfermedad\n",
        "\n",
        "Patient's Vital Status - Estado vital del paciente"
      ],
      "metadata": {
        "id": "5Vh8IlbKC-_b"
      }
    },
    {
      "cell_type": "code",
      "source": [
        "from pydrive.auth import GoogleAuth\n",
        "from pydrive.drive import GoogleDrive\n",
        "from google.colab import auth\n",
        "from oauth2client.client import GoogleCredentials\n",
        "\n",
        "# Autenticacion y creacion de PyDrive \n",
        "auth.authenticate_user()\n",
        "gauth = GoogleAuth()\n",
        "gauth.credentials = GoogleCredentials.get_application_default()\n",
        "drive = GoogleDrive(gauth)"
      ],
      "metadata": {
        "id": "XkXuwfy7bASu"
      },
      "execution_count": null,
      "outputs": []
    },
    {
      "cell_type": "code",
      "source": [
        "#Exportamos el dataset\n",
        "link = 'https://drive.google.com/file/d/17B3RF8t1-VG_k9avtvLP7By1HXQOOhEP/view?usp=share_link'\n",
        "\n",
        "import pandas as pd\n",
        "\n",
        "#Para encontrar el ID del archivo\n",
        "id = link.split(\"/\")[-2]\n",
        "\n",
        "downloaded = drive.CreateFile({'id':id})\n",
        "downloaded.GetContentFile('Breast_cancer.csv')\n",
        "\n",
        "Breast_cancer= pd.read_csv('Breast_cancer.csv')\n",
        "\n",
        "Breast_cancer.head()"
      ],
      "metadata": {
        "id": "pU2dA5xs4wU8",
        "colab": {
          "base_uri": "https://localhost:8080/",
          "height": 626
        },
        "outputId": "a00ba6c9-e9d2-4b0b-d879-0166afdbecf9"
      },
      "execution_count": null,
      "outputs": [
        {
          "output_type": "execute_result",
          "data": {
            "text/plain": [
              "  Patient ID  Age at Diagnosis Type of Breast Surgery    Cancer Type  \\\n",
              "0    MB-0000             75.65             Mastectomy  Breast Cancer   \n",
              "1    MB-0002             43.19      Breast Conserving  Breast Cancer   \n",
              "2    MB-0005             48.87             Mastectomy  Breast Cancer   \n",
              "3    MB-0006             47.68             Mastectomy  Breast Cancer   \n",
              "4    MB-0008             76.97             Mastectomy  Breast Cancer   \n",
              "\n",
              "                        Cancer Type Detailed Cellularity Chemotherapy  \\\n",
              "0           Breast Invasive Ductal Carcinoma         NaN           No   \n",
              "1           Breast Invasive Ductal Carcinoma        High           No   \n",
              "2           Breast Invasive Ductal Carcinoma        High          Yes   \n",
              "3  Breast Mixed Ductal and Lobular Carcinoma    Moderate          Yes   \n",
              "4  Breast Mixed Ductal and Lobular Carcinoma        High          Yes   \n",
              "\n",
              "  Pam50 + Claudin-low subtype  Cohort ER status measured by IHC  ...  \\\n",
              "0                 claudin-low     1.0                   Positve  ...   \n",
              "1                        LumA     1.0                   Positve  ...   \n",
              "2                        LumB     1.0                   Positve  ...   \n",
              "3                        LumB     1.0                   Positve  ...   \n",
              "4                        LumB     1.0                   Positve  ...   \n",
              "\n",
              "  Overall Survival Status  PR Status Radio Therapy  \\\n",
              "0                  Living   Negative           Yes   \n",
              "1                  Living   Positive           Yes   \n",
              "2                Deceased   Positive            No   \n",
              "3                  Living   Positive           Yes   \n",
              "4                Deceased   Positive           Yes   \n",
              "\n",
              "  Relapse Free Status (Months) Relapse Free Status     Sex  \\\n",
              "0                       138.65        Not Recurred  Female   \n",
              "1                        83.52        Not Recurred  Female   \n",
              "2                       151.28            Recurred  Female   \n",
              "3                       162.76        Not Recurred  Female   \n",
              "4                        18.55            Recurred  Female   \n",
              "\n",
              "  3-Gene classifier subtype Tumor Size Tumor Stage  Patient's Vital Status  \n",
              "0                 ER-/HER2-       22.0         2.0                  Living  \n",
              "1     ER+/HER2- High Prolif       10.0         1.0                  Living  \n",
              "2                       NaN       15.0         2.0         Died of Disease  \n",
              "3                       NaN       25.0         2.0                  Living  \n",
              "4     ER+/HER2- High Prolif       40.0         2.0         Died of Disease  \n",
              "\n",
              "[5 rows x 34 columns]"
            ],
            "text/html": [
              "\n",
              "  <div id=\"df-46bc1470-9071-4563-b990-29b45c99a4c0\">\n",
              "    <div class=\"colab-df-container\">\n",
              "      <div>\n",
              "<style scoped>\n",
              "    .dataframe tbody tr th:only-of-type {\n",
              "        vertical-align: middle;\n",
              "    }\n",
              "\n",
              "    .dataframe tbody tr th {\n",
              "        vertical-align: top;\n",
              "    }\n",
              "\n",
              "    .dataframe thead th {\n",
              "        text-align: right;\n",
              "    }\n",
              "</style>\n",
              "<table border=\"1\" class=\"dataframe\">\n",
              "  <thead>\n",
              "    <tr style=\"text-align: right;\">\n",
              "      <th></th>\n",
              "      <th>Patient ID</th>\n",
              "      <th>Age at Diagnosis</th>\n",
              "      <th>Type of Breast Surgery</th>\n",
              "      <th>Cancer Type</th>\n",
              "      <th>Cancer Type Detailed</th>\n",
              "      <th>Cellularity</th>\n",
              "      <th>Chemotherapy</th>\n",
              "      <th>Pam50 + Claudin-low subtype</th>\n",
              "      <th>Cohort</th>\n",
              "      <th>ER status measured by IHC</th>\n",
              "      <th>...</th>\n",
              "      <th>Overall Survival Status</th>\n",
              "      <th>PR Status</th>\n",
              "      <th>Radio Therapy</th>\n",
              "      <th>Relapse Free Status (Months)</th>\n",
              "      <th>Relapse Free Status</th>\n",
              "      <th>Sex</th>\n",
              "      <th>3-Gene classifier subtype</th>\n",
              "      <th>Tumor Size</th>\n",
              "      <th>Tumor Stage</th>\n",
              "      <th>Patient's Vital Status</th>\n",
              "    </tr>\n",
              "  </thead>\n",
              "  <tbody>\n",
              "    <tr>\n",
              "      <th>0</th>\n",
              "      <td>MB-0000</td>\n",
              "      <td>75.65</td>\n",
              "      <td>Mastectomy</td>\n",
              "      <td>Breast Cancer</td>\n",
              "      <td>Breast Invasive Ductal Carcinoma</td>\n",
              "      <td>NaN</td>\n",
              "      <td>No</td>\n",
              "      <td>claudin-low</td>\n",
              "      <td>1.0</td>\n",
              "      <td>Positve</td>\n",
              "      <td>...</td>\n",
              "      <td>Living</td>\n",
              "      <td>Negative</td>\n",
              "      <td>Yes</td>\n",
              "      <td>138.65</td>\n",
              "      <td>Not Recurred</td>\n",
              "      <td>Female</td>\n",
              "      <td>ER-/HER2-</td>\n",
              "      <td>22.0</td>\n",
              "      <td>2.0</td>\n",
              "      <td>Living</td>\n",
              "    </tr>\n",
              "    <tr>\n",
              "      <th>1</th>\n",
              "      <td>MB-0002</td>\n",
              "      <td>43.19</td>\n",
              "      <td>Breast Conserving</td>\n",
              "      <td>Breast Cancer</td>\n",
              "      <td>Breast Invasive Ductal Carcinoma</td>\n",
              "      <td>High</td>\n",
              "      <td>No</td>\n",
              "      <td>LumA</td>\n",
              "      <td>1.0</td>\n",
              "      <td>Positve</td>\n",
              "      <td>...</td>\n",
              "      <td>Living</td>\n",
              "      <td>Positive</td>\n",
              "      <td>Yes</td>\n",
              "      <td>83.52</td>\n",
              "      <td>Not Recurred</td>\n",
              "      <td>Female</td>\n",
              "      <td>ER+/HER2- High Prolif</td>\n",
              "      <td>10.0</td>\n",
              "      <td>1.0</td>\n",
              "      <td>Living</td>\n",
              "    </tr>\n",
              "    <tr>\n",
              "      <th>2</th>\n",
              "      <td>MB-0005</td>\n",
              "      <td>48.87</td>\n",
              "      <td>Mastectomy</td>\n",
              "      <td>Breast Cancer</td>\n",
              "      <td>Breast Invasive Ductal Carcinoma</td>\n",
              "      <td>High</td>\n",
              "      <td>Yes</td>\n",
              "      <td>LumB</td>\n",
              "      <td>1.0</td>\n",
              "      <td>Positve</td>\n",
              "      <td>...</td>\n",
              "      <td>Deceased</td>\n",
              "      <td>Positive</td>\n",
              "      <td>No</td>\n",
              "      <td>151.28</td>\n",
              "      <td>Recurred</td>\n",
              "      <td>Female</td>\n",
              "      <td>NaN</td>\n",
              "      <td>15.0</td>\n",
              "      <td>2.0</td>\n",
              "      <td>Died of Disease</td>\n",
              "    </tr>\n",
              "    <tr>\n",
              "      <th>3</th>\n",
              "      <td>MB-0006</td>\n",
              "      <td>47.68</td>\n",
              "      <td>Mastectomy</td>\n",
              "      <td>Breast Cancer</td>\n",
              "      <td>Breast Mixed Ductal and Lobular Carcinoma</td>\n",
              "      <td>Moderate</td>\n",
              "      <td>Yes</td>\n",
              "      <td>LumB</td>\n",
              "      <td>1.0</td>\n",
              "      <td>Positve</td>\n",
              "      <td>...</td>\n",
              "      <td>Living</td>\n",
              "      <td>Positive</td>\n",
              "      <td>Yes</td>\n",
              "      <td>162.76</td>\n",
              "      <td>Not Recurred</td>\n",
              "      <td>Female</td>\n",
              "      <td>NaN</td>\n",
              "      <td>25.0</td>\n",
              "      <td>2.0</td>\n",
              "      <td>Living</td>\n",
              "    </tr>\n",
              "    <tr>\n",
              "      <th>4</th>\n",
              "      <td>MB-0008</td>\n",
              "      <td>76.97</td>\n",
              "      <td>Mastectomy</td>\n",
              "      <td>Breast Cancer</td>\n",
              "      <td>Breast Mixed Ductal and Lobular Carcinoma</td>\n",
              "      <td>High</td>\n",
              "      <td>Yes</td>\n",
              "      <td>LumB</td>\n",
              "      <td>1.0</td>\n",
              "      <td>Positve</td>\n",
              "      <td>...</td>\n",
              "      <td>Deceased</td>\n",
              "      <td>Positive</td>\n",
              "      <td>Yes</td>\n",
              "      <td>18.55</td>\n",
              "      <td>Recurred</td>\n",
              "      <td>Female</td>\n",
              "      <td>ER+/HER2- High Prolif</td>\n",
              "      <td>40.0</td>\n",
              "      <td>2.0</td>\n",
              "      <td>Died of Disease</td>\n",
              "    </tr>\n",
              "  </tbody>\n",
              "</table>\n",
              "<p>5 rows × 34 columns</p>\n",
              "</div>\n",
              "      <button class=\"colab-df-convert\" onclick=\"convertToInteractive('df-46bc1470-9071-4563-b990-29b45c99a4c0')\"\n",
              "              title=\"Convert this dataframe to an interactive table.\"\n",
              "              style=\"display:none;\">\n",
              "        \n",
              "  <svg xmlns=\"http://www.w3.org/2000/svg\" height=\"24px\"viewBox=\"0 0 24 24\"\n",
              "       width=\"24px\">\n",
              "    <path d=\"M0 0h24v24H0V0z\" fill=\"none\"/>\n",
              "    <path d=\"M18.56 5.44l.94 2.06.94-2.06 2.06-.94-2.06-.94-.94-2.06-.94 2.06-2.06.94zm-11 1L8.5 8.5l.94-2.06 2.06-.94-2.06-.94L8.5 2.5l-.94 2.06-2.06.94zm10 10l.94 2.06.94-2.06 2.06-.94-2.06-.94-.94-2.06-.94 2.06-2.06.94z\"/><path d=\"M17.41 7.96l-1.37-1.37c-.4-.4-.92-.59-1.43-.59-.52 0-1.04.2-1.43.59L10.3 9.45l-7.72 7.72c-.78.78-.78 2.05 0 2.83L4 21.41c.39.39.9.59 1.41.59.51 0 1.02-.2 1.41-.59l7.78-7.78 2.81-2.81c.8-.78.8-2.07 0-2.86zM5.41 20L4 18.59l7.72-7.72 1.47 1.35L5.41 20z\"/>\n",
              "  </svg>\n",
              "      </button>\n",
              "      \n",
              "  <style>\n",
              "    .colab-df-container {\n",
              "      display:flex;\n",
              "      flex-wrap:wrap;\n",
              "      gap: 12px;\n",
              "    }\n",
              "\n",
              "    .colab-df-convert {\n",
              "      background-color: #E8F0FE;\n",
              "      border: none;\n",
              "      border-radius: 50%;\n",
              "      cursor: pointer;\n",
              "      display: none;\n",
              "      fill: #1967D2;\n",
              "      height: 32px;\n",
              "      padding: 0 0 0 0;\n",
              "      width: 32px;\n",
              "    }\n",
              "\n",
              "    .colab-df-convert:hover {\n",
              "      background-color: #E2EBFA;\n",
              "      box-shadow: 0px 1px 2px rgba(60, 64, 67, 0.3), 0px 1px 3px 1px rgba(60, 64, 67, 0.15);\n",
              "      fill: #174EA6;\n",
              "    }\n",
              "\n",
              "    [theme=dark] .colab-df-convert {\n",
              "      background-color: #3B4455;\n",
              "      fill: #D2E3FC;\n",
              "    }\n",
              "\n",
              "    [theme=dark] .colab-df-convert:hover {\n",
              "      background-color: #434B5C;\n",
              "      box-shadow: 0px 1px 3px 1px rgba(0, 0, 0, 0.15);\n",
              "      filter: drop-shadow(0px 1px 2px rgba(0, 0, 0, 0.3));\n",
              "      fill: #FFFFFF;\n",
              "    }\n",
              "  </style>\n",
              "\n",
              "      <script>\n",
              "        const buttonEl =\n",
              "          document.querySelector('#df-46bc1470-9071-4563-b990-29b45c99a4c0 button.colab-df-convert');\n",
              "        buttonEl.style.display =\n",
              "          google.colab.kernel.accessAllowed ? 'block' : 'none';\n",
              "\n",
              "        async function convertToInteractive(key) {\n",
              "          const element = document.querySelector('#df-46bc1470-9071-4563-b990-29b45c99a4c0');\n",
              "          const dataTable =\n",
              "            await google.colab.kernel.invokeFunction('convertToInteractive',\n",
              "                                                     [key], {});\n",
              "          if (!dataTable) return;\n",
              "\n",
              "          const docLinkHtml = 'Like what you see? Visit the ' +\n",
              "            '<a target=\"_blank\" href=https://colab.research.google.com/notebooks/data_table.ipynb>data table notebook</a>'\n",
              "            + ' to learn more about interactive tables.';\n",
              "          element.innerHTML = '';\n",
              "          dataTable['output_type'] = 'display_data';\n",
              "          await google.colab.output.renderOutput(dataTable, element);\n",
              "          const docLink = document.createElement('div');\n",
              "          docLink.innerHTML = docLinkHtml;\n",
              "          element.appendChild(docLink);\n",
              "        }\n",
              "      </script>\n",
              "    </div>\n",
              "  </div>\n",
              "  "
            ]
          },
          "metadata": {},
          "execution_count": 5
        }
      ]
    },
    {
      "cell_type": "code",
      "source": [
        "#Informacion sobre tamaño de tabla Test\n",
        "Breast_cancer.shape"
      ],
      "metadata": {
        "colab": {
          "base_uri": "https://localhost:8080/"
        },
        "id": "aDi0YiSvCSos",
        "outputId": "b6ca9725-98b2-4a88-df04-c5d520bc9dca"
      },
      "execution_count": null,
      "outputs": [
        {
          "output_type": "execute_result",
          "data": {
            "text/plain": [
              "(2509, 34)"
            ]
          },
          "metadata": {},
          "execution_count": 6
        }
      ]
    },
    {
      "cell_type": "code",
      "source": [
        "#Informacion sobre contenido y tipo de datos en tabla Train\n",
        "Breast_cancer.info()"
      ],
      "metadata": {
        "colab": {
          "base_uri": "https://localhost:8080/"
        },
        "id": "A-2ukmDSCVXq",
        "outputId": "3c3fa477-caa1-44b3-b8fc-3bdb7fb09a64"
      },
      "execution_count": null,
      "outputs": [
        {
          "output_type": "stream",
          "name": "stdout",
          "text": [
            "<class 'pandas.core.frame.DataFrame'>\n",
            "RangeIndex: 2509 entries, 0 to 2508\n",
            "Data columns (total 34 columns):\n",
            " #   Column                          Non-Null Count  Dtype  \n",
            "---  ------                          --------------  -----  \n",
            " 0   Patient ID                      2509 non-null   object \n",
            " 1   Age at Diagnosis                2498 non-null   float64\n",
            " 2   Type of Breast Surgery          1955 non-null   object \n",
            " 3   Cancer Type                     2509 non-null   object \n",
            " 4   Cancer Type Detailed            2509 non-null   object \n",
            " 5   Cellularity                     1917 non-null   object \n",
            " 6   Chemotherapy                    1980 non-null   object \n",
            " 7   Pam50 + Claudin-low subtype     1980 non-null   object \n",
            " 8   Cohort                          2498 non-null   float64\n",
            " 9   ER status measured by IHC       2426 non-null   object \n",
            " 10  ER Status                       2469 non-null   object \n",
            " 11  Neoplasm Histologic Grade       2388 non-null   float64\n",
            " 12  HER2 status measured by SNP6    1980 non-null   object \n",
            " 13  HER2 Status                     1980 non-null   object \n",
            " 14  Tumor Other Histologic Subtype  2374 non-null   object \n",
            " 15  Hormone Therapy                 1980 non-null   object \n",
            " 16  Inferred Menopausal State       1980 non-null   object \n",
            " 17  Integrative Cluster             1980 non-null   object \n",
            " 18  Primary Tumor Laterality        1870 non-null   object \n",
            " 19  Lymph nodes examined positive   2243 non-null   float64\n",
            " 20  Mutation Count                  2357 non-null   float64\n",
            " 21  Nottingham prognostic index     2287 non-null   float64\n",
            " 22  Oncotree Code                   2509 non-null   object \n",
            " 23  Overall Survival (Months)       1981 non-null   float64\n",
            " 24  Overall Survival Status         1981 non-null   object \n",
            " 25  PR Status                       1980 non-null   object \n",
            " 26  Radio Therapy                   1980 non-null   object \n",
            " 27  Relapse Free Status (Months)    2388 non-null   float64\n",
            " 28  Relapse Free Status             2488 non-null   object \n",
            " 29  Sex                             2509 non-null   object \n",
            " 30  3-Gene classifier subtype       1764 non-null   object \n",
            " 31  Tumor Size                      2360 non-null   float64\n",
            " 32  Tumor Stage                     1788 non-null   float64\n",
            " 33  Patient's Vital Status          1980 non-null   object \n",
            "dtypes: float64(10), object(24)\n",
            "memory usage: 666.6+ KB\n"
          ]
        }
      ]
    },
    {
      "cell_type": "code",
      "source": [
        "#Informacion estadistica de las distintas columnas\n",
        "Breast_cancer.describe()"
      ],
      "metadata": {
        "colab": {
          "base_uri": "https://localhost:8080/",
          "height": 361
        },
        "id": "jR8ivXBQCelc",
        "outputId": "e073b02e-b44d-4d3a-9e9c-e51aef9e8f21"
      },
      "execution_count": null,
      "outputs": [
        {
          "output_type": "execute_result",
          "data": {
            "text/plain": [
              "       Age at Diagnosis       Cohort  Neoplasm Histologic Grade  \\\n",
              "count       2498.000000  2498.000000                2388.000000   \n",
              "mean          60.420300     2.900320                   2.412060   \n",
              "std           13.032997     1.962216                   0.649363   \n",
              "min           21.930000     1.000000                   1.000000   \n",
              "25%           50.920000     1.000000                   2.000000   \n",
              "50%           61.110000     3.000000                   3.000000   \n",
              "75%           70.000000     4.000000                   3.000000   \n",
              "max           96.290000     9.000000                   3.000000   \n",
              "\n",
              "       Lymph nodes examined positive  Mutation Count  \\\n",
              "count                    2243.000000     2357.000000   \n",
              "mean                        1.950513        5.578702   \n",
              "std                         4.017774        3.967967   \n",
              "min                         0.000000        1.000000   \n",
              "25%                         0.000000        3.000000   \n",
              "50%                         0.000000        5.000000   \n",
              "75%                         2.000000        7.000000   \n",
              "max                        45.000000       80.000000   \n",
              "\n",
              "       Nottingham prognostic index  Overall Survival (Months)  \\\n",
              "count                  2287.000000                1981.000000   \n",
              "mean                      4.028787                 125.244271   \n",
              "std                       1.189092                  76.111772   \n",
              "min                       1.000000                   0.000000   \n",
              "25%                       3.048000                  60.866667   \n",
              "50%                       4.044000                 116.466667   \n",
              "75%                       5.040000                 185.133333   \n",
              "max                       7.200000                 355.200000   \n",
              "\n",
              "       Relapse Free Status (Months)   Tumor Size  Tumor Stage  \n",
              "count                   2388.000000  2360.000000  1788.000000  \n",
              "mean                     108.842487    26.220093     1.713647  \n",
              "std                       76.519494    15.370883     0.655307  \n",
              "min                        0.000000     1.000000     0.000000  \n",
              "25%                       40.560000    17.000000     1.000000  \n",
              "50%                       99.095000    22.410000     2.000000  \n",
              "75%                      167.640000    30.000000     2.000000  \n",
              "max                      384.210000   182.000000     4.000000  "
            ],
            "text/html": [
              "\n",
              "  <div id=\"df-e8ac4564-7fe2-4ae9-9539-797c4e203a7e\">\n",
              "    <div class=\"colab-df-container\">\n",
              "      <div>\n",
              "<style scoped>\n",
              "    .dataframe tbody tr th:only-of-type {\n",
              "        vertical-align: middle;\n",
              "    }\n",
              "\n",
              "    .dataframe tbody tr th {\n",
              "        vertical-align: top;\n",
              "    }\n",
              "\n",
              "    .dataframe thead th {\n",
              "        text-align: right;\n",
              "    }\n",
              "</style>\n",
              "<table border=\"1\" class=\"dataframe\">\n",
              "  <thead>\n",
              "    <tr style=\"text-align: right;\">\n",
              "      <th></th>\n",
              "      <th>Age at Diagnosis</th>\n",
              "      <th>Cohort</th>\n",
              "      <th>Neoplasm Histologic Grade</th>\n",
              "      <th>Lymph nodes examined positive</th>\n",
              "      <th>Mutation Count</th>\n",
              "      <th>Nottingham prognostic index</th>\n",
              "      <th>Overall Survival (Months)</th>\n",
              "      <th>Relapse Free Status (Months)</th>\n",
              "      <th>Tumor Size</th>\n",
              "      <th>Tumor Stage</th>\n",
              "    </tr>\n",
              "  </thead>\n",
              "  <tbody>\n",
              "    <tr>\n",
              "      <th>count</th>\n",
              "      <td>2498.000000</td>\n",
              "      <td>2498.000000</td>\n",
              "      <td>2388.000000</td>\n",
              "      <td>2243.000000</td>\n",
              "      <td>2357.000000</td>\n",
              "      <td>2287.000000</td>\n",
              "      <td>1981.000000</td>\n",
              "      <td>2388.000000</td>\n",
              "      <td>2360.000000</td>\n",
              "      <td>1788.000000</td>\n",
              "    </tr>\n",
              "    <tr>\n",
              "      <th>mean</th>\n",
              "      <td>60.420300</td>\n",
              "      <td>2.900320</td>\n",
              "      <td>2.412060</td>\n",
              "      <td>1.950513</td>\n",
              "      <td>5.578702</td>\n",
              "      <td>4.028787</td>\n",
              "      <td>125.244271</td>\n",
              "      <td>108.842487</td>\n",
              "      <td>26.220093</td>\n",
              "      <td>1.713647</td>\n",
              "    </tr>\n",
              "    <tr>\n",
              "      <th>std</th>\n",
              "      <td>13.032997</td>\n",
              "      <td>1.962216</td>\n",
              "      <td>0.649363</td>\n",
              "      <td>4.017774</td>\n",
              "      <td>3.967967</td>\n",
              "      <td>1.189092</td>\n",
              "      <td>76.111772</td>\n",
              "      <td>76.519494</td>\n",
              "      <td>15.370883</td>\n",
              "      <td>0.655307</td>\n",
              "    </tr>\n",
              "    <tr>\n",
              "      <th>min</th>\n",
              "      <td>21.930000</td>\n",
              "      <td>1.000000</td>\n",
              "      <td>1.000000</td>\n",
              "      <td>0.000000</td>\n",
              "      <td>1.000000</td>\n",
              "      <td>1.000000</td>\n",
              "      <td>0.000000</td>\n",
              "      <td>0.000000</td>\n",
              "      <td>1.000000</td>\n",
              "      <td>0.000000</td>\n",
              "    </tr>\n",
              "    <tr>\n",
              "      <th>25%</th>\n",
              "      <td>50.920000</td>\n",
              "      <td>1.000000</td>\n",
              "      <td>2.000000</td>\n",
              "      <td>0.000000</td>\n",
              "      <td>3.000000</td>\n",
              "      <td>3.048000</td>\n",
              "      <td>60.866667</td>\n",
              "      <td>40.560000</td>\n",
              "      <td>17.000000</td>\n",
              "      <td>1.000000</td>\n",
              "    </tr>\n",
              "    <tr>\n",
              "      <th>50%</th>\n",
              "      <td>61.110000</td>\n",
              "      <td>3.000000</td>\n",
              "      <td>3.000000</td>\n",
              "      <td>0.000000</td>\n",
              "      <td>5.000000</td>\n",
              "      <td>4.044000</td>\n",
              "      <td>116.466667</td>\n",
              "      <td>99.095000</td>\n",
              "      <td>22.410000</td>\n",
              "      <td>2.000000</td>\n",
              "    </tr>\n",
              "    <tr>\n",
              "      <th>75%</th>\n",
              "      <td>70.000000</td>\n",
              "      <td>4.000000</td>\n",
              "      <td>3.000000</td>\n",
              "      <td>2.000000</td>\n",
              "      <td>7.000000</td>\n",
              "      <td>5.040000</td>\n",
              "      <td>185.133333</td>\n",
              "      <td>167.640000</td>\n",
              "      <td>30.000000</td>\n",
              "      <td>2.000000</td>\n",
              "    </tr>\n",
              "    <tr>\n",
              "      <th>max</th>\n",
              "      <td>96.290000</td>\n",
              "      <td>9.000000</td>\n",
              "      <td>3.000000</td>\n",
              "      <td>45.000000</td>\n",
              "      <td>80.000000</td>\n",
              "      <td>7.200000</td>\n",
              "      <td>355.200000</td>\n",
              "      <td>384.210000</td>\n",
              "      <td>182.000000</td>\n",
              "      <td>4.000000</td>\n",
              "    </tr>\n",
              "  </tbody>\n",
              "</table>\n",
              "</div>\n",
              "      <button class=\"colab-df-convert\" onclick=\"convertToInteractive('df-e8ac4564-7fe2-4ae9-9539-797c4e203a7e')\"\n",
              "              title=\"Convert this dataframe to an interactive table.\"\n",
              "              style=\"display:none;\">\n",
              "        \n",
              "  <svg xmlns=\"http://www.w3.org/2000/svg\" height=\"24px\"viewBox=\"0 0 24 24\"\n",
              "       width=\"24px\">\n",
              "    <path d=\"M0 0h24v24H0V0z\" fill=\"none\"/>\n",
              "    <path d=\"M18.56 5.44l.94 2.06.94-2.06 2.06-.94-2.06-.94-.94-2.06-.94 2.06-2.06.94zm-11 1L8.5 8.5l.94-2.06 2.06-.94-2.06-.94L8.5 2.5l-.94 2.06-2.06.94zm10 10l.94 2.06.94-2.06 2.06-.94-2.06-.94-.94-2.06-.94 2.06-2.06.94z\"/><path d=\"M17.41 7.96l-1.37-1.37c-.4-.4-.92-.59-1.43-.59-.52 0-1.04.2-1.43.59L10.3 9.45l-7.72 7.72c-.78.78-.78 2.05 0 2.83L4 21.41c.39.39.9.59 1.41.59.51 0 1.02-.2 1.41-.59l7.78-7.78 2.81-2.81c.8-.78.8-2.07 0-2.86zM5.41 20L4 18.59l7.72-7.72 1.47 1.35L5.41 20z\"/>\n",
              "  </svg>\n",
              "      </button>\n",
              "      \n",
              "  <style>\n",
              "    .colab-df-container {\n",
              "      display:flex;\n",
              "      flex-wrap:wrap;\n",
              "      gap: 12px;\n",
              "    }\n",
              "\n",
              "    .colab-df-convert {\n",
              "      background-color: #E8F0FE;\n",
              "      border: none;\n",
              "      border-radius: 50%;\n",
              "      cursor: pointer;\n",
              "      display: none;\n",
              "      fill: #1967D2;\n",
              "      height: 32px;\n",
              "      padding: 0 0 0 0;\n",
              "      width: 32px;\n",
              "    }\n",
              "\n",
              "    .colab-df-convert:hover {\n",
              "      background-color: #E2EBFA;\n",
              "      box-shadow: 0px 1px 2px rgba(60, 64, 67, 0.3), 0px 1px 3px 1px rgba(60, 64, 67, 0.15);\n",
              "      fill: #174EA6;\n",
              "    }\n",
              "\n",
              "    [theme=dark] .colab-df-convert {\n",
              "      background-color: #3B4455;\n",
              "      fill: #D2E3FC;\n",
              "    }\n",
              "\n",
              "    [theme=dark] .colab-df-convert:hover {\n",
              "      background-color: #434B5C;\n",
              "      box-shadow: 0px 1px 3px 1px rgba(0, 0, 0, 0.15);\n",
              "      filter: drop-shadow(0px 1px 2px rgba(0, 0, 0, 0.3));\n",
              "      fill: #FFFFFF;\n",
              "    }\n",
              "  </style>\n",
              "\n",
              "      <script>\n",
              "        const buttonEl =\n",
              "          document.querySelector('#df-e8ac4564-7fe2-4ae9-9539-797c4e203a7e button.colab-df-convert');\n",
              "        buttonEl.style.display =\n",
              "          google.colab.kernel.accessAllowed ? 'block' : 'none';\n",
              "\n",
              "        async function convertToInteractive(key) {\n",
              "          const element = document.querySelector('#df-e8ac4564-7fe2-4ae9-9539-797c4e203a7e');\n",
              "          const dataTable =\n",
              "            await google.colab.kernel.invokeFunction('convertToInteractive',\n",
              "                                                     [key], {});\n",
              "          if (!dataTable) return;\n",
              "\n",
              "          const docLinkHtml = 'Like what you see? Visit the ' +\n",
              "            '<a target=\"_blank\" href=https://colab.research.google.com/notebooks/data_table.ipynb>data table notebook</a>'\n",
              "            + ' to learn more about interactive tables.';\n",
              "          element.innerHTML = '';\n",
              "          dataTable['output_type'] = 'display_data';\n",
              "          await google.colab.output.renderOutput(dataTable, element);\n",
              "          const docLink = document.createElement('div');\n",
              "          docLink.innerHTML = docLinkHtml;\n",
              "          element.appendChild(docLink);\n",
              "        }\n",
              "      </script>\n",
              "    </div>\n",
              "  </div>\n",
              "  "
            ]
          },
          "metadata": {},
          "execution_count": 8
        }
      ]
    },
    {
      "cell_type": "code",
      "source": [
        "#Filtrado de columnas para mejor analisis, cambio de nombre de la columna \n",
        "Breast_analisis = Breast_cancer.iloc[:, [1,2,4,5,6,26,31,32,33,16,20] ]\n",
        "\n",
        "len(Breast_analisis)\n",
        "\n",
        "Breast_analisis.rename(columns={'Patient\\'s Vital Status':'Vital Status'}, inplace = True)"
      ],
      "metadata": {
        "id": "5vLW3HgBCg1F"
      },
      "execution_count": null,
      "outputs": []
    },
    {
      "cell_type": "markdown",
      "source": [
        "#Preguntas a las cuales les buscamos respuesta\n",
        "En este apartado se encuentran una serie de preguntas ante las cuales estamos buscando respuesta a través del análisis de gráficos generados en base al dataset."
      ],
      "metadata": {
        "id": "7IBXpqYJDDK0"
      }
    },
    {
      "cell_type": "markdown",
      "source": [
        "##Es la quimioterapia un tratamiento con menor cantidad de pacientes con muerte por cancer?\n"
      ],
      "metadata": {
        "id": "fCaIgOe_DHAh"
      }
    },
    {
      "cell_type": "code",
      "source": [
        "#Contamos la cantida de pacientes por edad del paciente en cada uno de los estados\n",
        "from matplotlib.figure import figaspect\n",
        "import seaborn            as sb\n",
        "plt.figure(figsize=(15,6))\n",
        "fig= sb.histplot(data=Breast_analisis, x=\"Age at Diagnosis\",multiple=\"stack\", hue=\"Vital Status\")\n",
        "plt.xticks(fontsize=10)"
      ],
      "metadata": {
        "colab": {
          "base_uri": "https://localhost:8080/",
          "height": 435
        },
        "id": "TahE1s70DDpU",
        "outputId": "8d47026a-26aa-4105-a3cf-d67b30208d37"
      },
      "execution_count": null,
      "outputs": [
        {
          "output_type": "execute_result",
          "data": {
            "text/plain": [
              "(array([ 10.,  20.,  30.,  40.,  50.,  60.,  70.,  80.,  90., 100., 110.]),\n",
              " <a list of 11 Text major ticklabel objects>)"
            ]
          },
          "metadata": {},
          "execution_count": 10
        },
        {
          "output_type": "display_data",
          "data": {
            "text/plain": [
              "<Figure size 1080x432 with 1 Axes>"
            ],
            "image/png": "[encoded data removed]"
          },
          "metadata": {
            "needs_background": "light"
          }
        }
      ]
    },
    {
      "cell_type": "markdown",
      "source": [
        "Con este grafico vemos como esta la distribucion de la edad entre los estados"
      ],
      "metadata": {
        "id": "Tw3n0n99D64e"
      }
    },
    {
      "cell_type": "code",
      "source": [
        "#Veamos el estado vital general de los pacientes de la muestra\n",
        "total = Breast_analisis.shape[0]\n",
        "Breast_analisisLiving = Breast_analisis[\"Vital Status\"] == \"Living\"\t\n",
        "Breast_analisisDiedother = Breast_analisis[\"Vital Status\"] == \"Died of Other Causes\"\t\n",
        "Breast_analisisDieddisease = Breast_analisis[\"Vital Status\"] == \"Died of Disease\"\t\n",
        "\n",
        "porcentaje_living = Breast_analisisLiving.sum() / total *100\n",
        "porcentaje_died_disease = Breast_analisisDieddisease.sum() / total *100\n",
        "porcentaje_died_other = Breast_analisisDiedother.sum() / total *100"
      ],
      "metadata": {
        "id": "YTL4qe82DxTA"
      },
      "execution_count": null,
      "outputs": []
    },
    {
      "cell_type": "code",
      "source": [
        "#Graficamos el porcentaje de la muestra por cada uno de los estados\n",
        "Nombres = np.array([\"Vivos\", \"Muertos por la enfermedad\", \"Muertos por otras causas\"])\n",
        "Porcentaje = np.array([porcentaje_living,porcentaje_died_disease,porcentaje_died_other])\n",
        "plt.figure(figsize=(7,5)) #tamaño del grafico\n",
        "plt.title(\"Estado vital de pacientes (General)\") #titulo del grafico\n",
        "pie_colors = ['tab:pink', 'tab:cyan', 'tab:grey']\n",
        "plt.pie(Porcentaje, labels=Nombres, autopct=\"%0.1f %%\", colors=pie_colors)\n",
        "plt.axis(\"equal\")\n",
        "plt.show()"
      ],
      "metadata": {
        "colab": {
          "base_uri": "https://localhost:8080/",
          "height": 329
        },
        "id": "wMkPyLVFEcJj",
        "outputId": "fe102aca-1aa6-4eba-a573-c3126b534f96"
      },
      "execution_count": null,
      "outputs": [
        {
          "output_type": "display_data",
          "data": {
            "text/plain": [
              "<Figure size 504x360 with 1 Axes>"
            ],
            "image/png": "[encoded data removed]"
          },
          "metadata": {}
        }
      ]
    },
    {
      "cell_type": "code",
      "source": [
        "Tratados = Breast_analisis.loc[Breast_analisis.Chemotherapy == \"Yes\"]\n",
        "Totaltratados = Tratados.shape[0]\n",
        "\n",
        "Tratadosvivos = Tratados[\"Vital Status\"] == \"Living\"\n",
        "Tratadosmuertos = Tratados[\"Vital Status\"] == \"Died of Other Causes\"\n",
        "Tratadosmuertosotras = Tratados[\"Vital Status\"] == \"Died of Disease\"\t\n",
        "\n",
        "porcentaje_Tratadosvivo = Tratadosvivos.sum() / Totaltratados *100\n",
        "porcentaje_Muertoenfermo = Tratadosmuertos.sum() / Totaltratados *100\n",
        "porcentaje_Muertootras = Tratadosmuertosotras.sum() / Totaltratados *100"
      ],
      "metadata": {
        "id": "eKm6zWFhEmUr"
      },
      "execution_count": null,
      "outputs": []
    },
    {
      "cell_type": "code",
      "source": [
        "#Graficamos el porcentaje de los pacientes que recibieron quimioterapia como tratamiento y el resultado de su estado vital\n",
        "Nombres = np.array([\"Vivos\", \"Muertos por la enfermedad\", \"Muertos por otras causas\"])\n",
        "Porcentaje = np.array([porcentaje_Tratadosvivo,porcentaje_Muertoenfermo,porcentaje_Muertootras])\n",
        "plt.figure(figsize=(7,5)) #tamaño del grafico\n",
        "plt.title(\"Estado vital de pacientes (Con quimioterapia)\") #titulo del grafico\n",
        "pie_colors = ['tab:pink', 'tab:cyan', 'tab:grey']\n",
        "plt.pie(Porcentaje, labels=Nombres, autopct=\"%0.1f %%\", colors=pie_colors)\n",
        "plt.axis(\"equal\")\n",
        "plt.show()"
      ],
      "metadata": {
        "colab": {
          "base_uri": "https://localhost:8080/",
          "height": 337
        },
        "id": "NNarLiZCE7-z",
        "outputId": "4a10eff8-8392-4e3a-90ab-ee00caf0659c"
      },
      "execution_count": null,
      "outputs": [
        {
          "output_type": "display_data",
          "data": {
            "text/plain": [
              "<Figure size 504x360 with 1 Axes>"
            ],
            "image/png": "[encoded data removed]"
          },
          "metadata": {}
        }
      ]
    },
    {
      "cell_type": "markdown",
      "source": [
        "Con este analisis podemos ver que las pacientes que reciben quimioterapia reducen la probabilidad de no fallecer a causa del cancer. Tambien consideramos que la edad de las pacientes que fallecen por otras causas es mayor a los 60 años."
      ],
      "metadata": {
        "id": "XVPdTF1fFnRD"
      }
    },
    {
      "cell_type": "markdown",
      "source": [
        "Probamos la relacion entre la edad del diagnostico y otras variables. \n"
      ],
      "metadata": {
        "id": "YDqWz57XLZEN"
      }
    },
    {
      "cell_type": "code",
      "source": [
        "Breast_analisis.replace({\"Living\": \"1\", \"Died of Disease\": \"2\", \"NaN \": \"0\", \"Died of Other Causes\": \"3\"})"
      ],
      "metadata": {
        "colab": {
          "base_uri": "https://localhost:8080/",
          "height": 467
        },
        "id": "2LP0maXaLhWl",
        "outputId": "3903abd4-50e0-457d-faaa-3f8c83a94426"
      },
      "execution_count": null,
      "outputs": [
        {
          "output_type": "execute_result",
          "data": {
            "text/plain": [
              "      Age at Diagnosis Type of Breast Surgery  \\\n",
              "0                75.65             Mastectomy   \n",
              "1                43.19      Breast Conserving   \n",
              "2                48.87             Mastectomy   \n",
              "3                47.68             Mastectomy   \n",
              "4                76.97             Mastectomy   \n",
              "...                ...                    ...   \n",
              "2504             70.05                    NaN   \n",
              "2505             63.60                    NaN   \n",
              "2506               NaN                    NaN   \n",
              "2507               NaN                    NaN   \n",
              "2508               NaN                    NaN   \n",
              "\n",
              "                           Cancer Type Detailed Cellularity Chemotherapy  \\\n",
              "0              Breast Invasive Ductal Carcinoma         NaN           No   \n",
              "1              Breast Invasive Ductal Carcinoma        High           No   \n",
              "2              Breast Invasive Ductal Carcinoma        High          Yes   \n",
              "3     Breast Mixed Ductal and Lobular Carcinoma    Moderate          Yes   \n",
              "4     Breast Mixed Ductal and Lobular Carcinoma        High          Yes   \n",
              "...                                         ...         ...          ...   \n",
              "2504                  Invasive Breast Carcinoma         NaN          NaN   \n",
              "2505                  Invasive Breast Carcinoma         NaN          NaN   \n",
              "2506                  Invasive Breast Carcinoma         NaN          NaN   \n",
              "2507                  Invasive Breast Carcinoma         NaN          NaN   \n",
              "2508                  Invasive Breast Carcinoma         NaN          NaN   \n",
              "\n",
              "     Radio Therapy  Tumor Size  Tumor Stage Vital Status  \\\n",
              "0              Yes        22.0          2.0            1   \n",
              "1              Yes        10.0          1.0            1   \n",
              "2               No        15.0          2.0            2   \n",
              "3              Yes        25.0          2.0            1   \n",
              "4              Yes        40.0          2.0            2   \n",
              "...            ...         ...          ...          ...   \n",
              "2504           NaN        27.0          1.0          NaN   \n",
              "2505           NaN        28.0          2.0          NaN   \n",
              "2506           NaN         NaN          0.0          NaN   \n",
              "2507           NaN         NaN          0.0          NaN   \n",
              "2508           NaN         NaN          0.0          NaN   \n",
              "\n",
              "     Inferred Menopausal State  Mutation Count  \n",
              "0                         Post             NaN  \n",
              "1                          Pre             2.0  \n",
              "2                          Pre             2.0  \n",
              "3                          Pre             1.0  \n",
              "4                         Post             2.0  \n",
              "...                        ...             ...  \n",
              "2504                       NaN             2.0  \n",
              "2505                       NaN             4.0  \n",
              "2506                       NaN             6.0  \n",
              "2507                       NaN             7.0  \n",
              "2508                       NaN             5.0  \n",
              "\n",
              "[2509 rows x 11 columns]"
            ],
            "text/html": [
              "\n",
              "  <div id=\"df-bd8cf126-407e-44e3-b6f2-cacd60d56c9c\">\n",
              "    <div class=\"colab-df-container\">\n",
              "      <div>\n",
              "<style scoped>\n",
              "    .dataframe tbody tr th:only-of-type {\n",
              "        vertical-align: middle;\n",
              "    }\n",
              "\n",
              "    .dataframe tbody tr th {\n",
              "        vertical-align: top;\n",
              "    }\n",
              "\n",
              "    .dataframe thead th {\n",
              "        text-align: right;\n",
              "    }\n",
              "</style>\n",
              "<table border=\"1\" class=\"dataframe\">\n",
              "  <thead>\n",
              "    <tr style=\"text-align: right;\">\n",
              "      <th></th>\n",
              "      <th>Age at Diagnosis</th>\n",
              "      <th>Type of Breast Surgery</th>\n",
              "      <th>Cancer Type Detailed</th>\n",
              "      <th>Cellularity</th>\n",
              "      <th>Chemotherapy</th>\n",
              "      <th>Radio Therapy</th>\n",
              "      <th>Tumor Size</th>\n",
              "      <th>Tumor Stage</th>\n",
              "      <th>Vital Status</th>\n",
              "      <th>Inferred Menopausal State</th>\n",
              "      <th>Mutation Count</th>\n",
              "    </tr>\n",
              "  </thead>\n",
              "  <tbody>\n",
              "    <tr>\n",
              "      <th>0</th>\n",
              "      <td>75.65</td>\n",
              "      <td>Mastectomy</td>\n",
              "      <td>Breast Invasive Ductal Carcinoma</td>\n",
              "      <td>NaN</td>\n",
              "      <td>No</td>\n",
              "      <td>Yes</td>\n",
              "      <td>22.0</td>\n",
              "      <td>2.0</td>\n",
              "      <td>1</td>\n",
              "      <td>Post</td>\n",
              "      <td>NaN</td>\n",
              "    </tr>\n",
              "    <tr>\n",
              "      <th>1</th>\n",
              "      <td>43.19</td>\n",
              "      <td>Breast Conserving</td>\n",
              "      <td>Breast Invasive Ductal Carcinoma</td>\n",
              "      <td>High</td>\n",
              "      <td>No</td>\n",
              "      <td>Yes</td>\n",
              "      <td>10.0</td>\n",
              "      <td>1.0</td>\n",
              "      <td>1</td>\n",
              "      <td>Pre</td>\n",
              "      <td>2.0</td>\n",
              "    </tr>\n",
              "    <tr>\n",
              "      <th>2</th>\n",
              "      <td>48.87</td>\n",
              "      <td>Mastectomy</td>\n",
              "      <td>Breast Invasive Ductal Carcinoma</td>\n",
              "      <td>High</td>\n",
              "      <td>Yes</td>\n",
              "      <td>No</td>\n",
              "      <td>15.0</td>\n",
              "      <td>2.0</td>\n",
              "      <td>2</td>\n",
              "      <td>Pre</td>\n",
              "      <td>2.0</td>\n",
              "    </tr>\n",
              "    <tr>\n",
              "      <th>3</th>\n",
              "      <td>47.68</td>\n",
              "      <td>Mastectomy</td>\n",
              "      <td>Breast Mixed Ductal and Lobular Carcinoma</td>\n",
              "      <td>Moderate</td>\n",
              "      <td>Yes</td>\n",
              "      <td>Yes</td>\n",
              "      <td>25.0</td>\n",
              "      <td>2.0</td>\n",
              "      <td>1</td>\n",
              "      <td>Pre</td>\n",
              "      <td>1.0</td>\n",
              "    </tr>\n",
              "    <tr>\n",
              "      <th>4</th>\n",
              "      <td>76.97</td>\n",
              "      <td>Mastectomy</td>\n",
              "      <td>Breast Mixed Ductal and Lobular Carcinoma</td>\n",
              "      <td>High</td>\n",
              "      <td>Yes</td>\n",
              "      <td>Yes</td>\n",
              "      <td>40.0</td>\n",
              "      <td>2.0</td>\n",
              "      <td>2</td>\n",
              "      <td>Post</td>\n",
              "      <td>2.0</td>\n",
              "    </tr>\n",
              "    <tr>\n",
              "      <th>...</th>\n",
              "      <td>...</td>\n",
              "      <td>...</td>\n",
              "      <td>...</td>\n",
              "      <td>...</td>\n",
              "      <td>...</td>\n",
              "      <td>...</td>\n",
              "      <td>...</td>\n",
              "      <td>...</td>\n",
              "      <td>...</td>\n",
              "      <td>...</td>\n",
              "      <td>...</td>\n",
              "    </tr>\n",
              "    <tr>\n",
              "      <th>2504</th>\n",
              "      <td>70.05</td>\n",
              "      <td>NaN</td>\n",
              "      <td>Invasive Breast Carcinoma</td>\n",
              "      <td>NaN</td>\n",
              "      <td>NaN</td>\n",
              "      <td>NaN</td>\n",
              "      <td>27.0</td>\n",
              "      <td>1.0</td>\n",
              "      <td>NaN</td>\n",
              "      <td>NaN</td>\n",
              "      <td>2.0</td>\n",
              "    </tr>\n",
              "    <tr>\n",
              "      <th>2505</th>\n",
              "      <td>63.60</td>\n",
              "      <td>NaN</td>\n",
              "      <td>Invasive Breast Carcinoma</td>\n",
              "      <td>NaN</td>\n",
              "      <td>NaN</td>\n",
              "      <td>NaN</td>\n",
              "      <td>28.0</td>\n",
              "      <td>2.0</td>\n",
              "      <td>NaN</td>\n",
              "      <td>NaN</td>\n",
              "      <td>4.0</td>\n",
              "    </tr>\n",
              "    <tr>\n",
              "      <th>2506</th>\n",
              "      <td>NaN</td>\n",
              "      <td>NaN</td>\n",
              "      <td>Invasive Breast Carcinoma</td>\n",
              "      <td>NaN</td>\n",
              "      <td>NaN</td>\n",
              "      <td>NaN</td>\n",
              "      <td>NaN</td>\n",
              "      <td>0.0</td>\n",
              "      <td>NaN</td>\n",
              "      <td>NaN</td>\n",
              "      <td>6.0</td>\n",
              "    </tr>\n",
              "    <tr>\n",
              "      <th>2507</th>\n",
              "      <td>NaN</td>\n",
              "      <td>NaN</td>\n",
              "      <td>Invasive Breast Carcinoma</td>\n",
              "      <td>NaN</td>\n",
              "      <td>NaN</td>\n",
              "      <td>NaN</td>\n",
              "      <td>NaN</td>\n",
              "      <td>0.0</td>\n",
              "      <td>NaN</td>\n",
              "      <td>NaN</td>\n",
              "      <td>7.0</td>\n",
              "    </tr>\n",
              "    <tr>\n",
              "      <th>2508</th>\n",
              "      <td>NaN</td>\n",
              "      <td>NaN</td>\n",
              "      <td>Invasive Breast Carcinoma</td>\n",
              "      <td>NaN</td>\n",
              "      <td>NaN</td>\n",
              "      <td>NaN</td>\n",
              "      <td>NaN</td>\n",
              "      <td>0.0</td>\n",
              "      <td>NaN</td>\n",
              "      <td>NaN</td>\n",
              "      <td>5.0</td>\n",
              "    </tr>\n",
              "  </tbody>\n",
              "</table>\n",
              "<p>2509 rows × 11 columns</p>\n",
              "</div>\n",
              "      <button class=\"colab-df-convert\" onclick=\"convertToInteractive('df-bd8cf126-407e-44e3-b6f2-cacd60d56c9c')\"\n",
              "              title=\"Convert this dataframe to an interactive table.\"\n",
              "              style=\"display:none;\">\n",
              "        \n",
              "  <svg xmlns=\"http://www.w3.org/2000/svg\" height=\"24px\"viewBox=\"0 0 24 24\"\n",
              "       width=\"24px\">\n",
              "    <path d=\"M0 0h24v24H0V0z\" fill=\"none\"/>\n",
              "    <path d=\"M18.56 5.44l.94 2.06.94-2.06 2.06-.94-2.06-.94-.94-2.06-.94 2.06-2.06.94zm-11 1L8.5 8.5l.94-2.06 2.06-.94-2.06-.94L8.5 2.5l-.94 2.06-2.06.94zm10 10l.94 2.06.94-2.06 2.06-.94-2.06-.94-.94-2.06-.94 2.06-2.06.94z\"/><path d=\"M17.41 7.96l-1.37-1.37c-.4-.4-.92-.59-1.43-.59-.52 0-1.04.2-1.43.59L10.3 9.45l-7.72 7.72c-.78.78-.78 2.05 0 2.83L4 21.41c.39.39.9.59 1.41.59.51 0 1.02-.2 1.41-.59l7.78-7.78 2.81-2.81c.8-.78.8-2.07 0-2.86zM5.41 20L4 18.59l7.72-7.72 1.47 1.35L5.41 20z\"/>\n",
              "  </svg>\n",
              "      </button>\n",
              "      \n",
              "  <style>\n",
              "    .colab-df-container {\n",
              "      display:flex;\n",
              "      flex-wrap:wrap;\n",
              "      gap: 12px;\n",
              "    }\n",
              "\n",
              "    .colab-df-convert {\n",
              "      background-color: #E8F0FE;\n",
              "      border: none;\n",
              "      border-radius: 50%;\n",
              "      cursor: pointer;\n",
              "      display: none;\n",
              "      fill: #1967D2;\n",
              "      height: 32px;\n",
              "      padding: 0 0 0 0;\n",
              "      width: 32px;\n",
              "    }\n",
              "\n",
              "    .colab-df-convert:hover {\n",
              "      background-color: #E2EBFA;\n",
              "      box-shadow: 0px 1px 2px rgba(60, 64, 67, 0.3), 0px 1px 3px 1px rgba(60, 64, 67, 0.15);\n",
              "      fill: #174EA6;\n",
              "    }\n",
              "\n",
              "    [theme=dark] .colab-df-convert {\n",
              "      background-color: #3B4455;\n",
              "      fill: #D2E3FC;\n",
              "    }\n",
              "\n",
              "    [theme=dark] .colab-df-convert:hover {\n",
              "      background-color: #434B5C;\n",
              "      box-shadow: 0px 1px 3px 1px rgba(0, 0, 0, 0.15);\n",
              "      filter: drop-shadow(0px 1px 2px rgba(0, 0, 0, 0.3));\n",
              "      fill: #FFFFFF;\n",
              "    }\n",
              "  </style>\n",
              "\n",
              "      <script>\n",
              "        const buttonEl =\n",
              "          document.querySelector('#df-bd8cf126-407e-44e3-b6f2-cacd60d56c9c button.colab-df-convert');\n",
              "        buttonEl.style.display =\n",
              "          google.colab.kernel.accessAllowed ? 'block' : 'none';\n",
              "\n",
              "        async function convertToInteractive(key) {\n",
              "          const element = document.querySelector('#df-bd8cf126-407e-44e3-b6f2-cacd60d56c9c');\n",
              "          const dataTable =\n",
              "            await google.colab.kernel.invokeFunction('convertToInteractive',\n",
              "                                                     [key], {});\n",
              "          if (!dataTable) return;\n",
              "\n",
              "          const docLinkHtml = 'Like what you see? Visit the ' +\n",
              "            '<a target=\"_blank\" href=https://colab.research.google.com/notebooks/data_table.ipynb>data table notebook</a>'\n",
              "            + ' to learn more about interactive tables.';\n",
              "          element.innerHTML = '';\n",
              "          dataTable['output_type'] = 'display_data';\n",
              "          await google.colab.output.renderOutput(dataTable, element);\n",
              "          const docLink = document.createElement('div');\n",
              "          docLink.innerHTML = docLinkHtml;\n",
              "          element.appendChild(docLink);\n",
              "        }\n",
              "      </script>\n",
              "    </div>\n",
              "  </div>\n",
              "  "
            ]
          },
          "metadata": {},
          "execution_count": 15
        }
      ]
    },
    {
      "cell_type": "code",
      "source": [
        "#Probamos la relacion entre la edad del diagnostico y otras variables.\n",
        "fig, ((ax1, ax2), (ax3, ax4)) = plt.subplots(nrows=2, ncols=2, figsize=(16,12))\n",
        "DiagnosisrVstatus_plot = pd.concat([Breast_analisis['Age at Diagnosis'],Breast_analisis['Tumor Size']],axis = 1)\n",
        "sns.regplot(x='Tumor Size',y = 'Age at Diagnosis',data = DiagnosisrVstatus_plot,scatter= True, fit_reg=True, ax=ax1, color=\"pink\")\n",
        "DiagnosisrVstatus_plot = pd.concat([Breast_analisis['Age at Diagnosis'],Breast_analisis['Tumor Stage']],axis = 1)\n",
        "sns.regplot(x='Tumor Stage',y = 'Age at Diagnosis',data = DiagnosisrVstatus_plot,scatter= True, fit_reg=True, ax=ax2,color=\"pink\")\n",
        "DiagnosisrVstatus_plot = pd.concat([Breast_analisis['Age at Diagnosis'],Breast_analisis['Mutation Count']],axis = 1)\n",
        "sns.regplot(x='Mutation Count',y = 'Age at Diagnosis',data = DiagnosisrVstatus_plot,scatter= True, fit_reg=True, ax=ax3,color=\"pink\")"
      ],
      "metadata": {
        "colab": {
          "base_uri": "https://localhost:8080/",
          "height": 760
        },
        "id": "U75YfO1dLlKr",
        "outputId": "dcc28413-2d60-4e7d-ffae-8dc4dee4a9c3"
      },
      "execution_count": null,
      "outputs": [
        {
          "output_type": "execute_result",
          "data": {
            "text/plain": [
              "<matplotlib.axes._subplots.AxesSubplot at 0x7f63f1b3b9d0>"
            ]
          },
          "metadata": {},
          "execution_count": 16
        },
        {
          "output_type": "display_data",
          "data": {
            "text/plain": [
              "<Figure size 1152x864 with 4 Axes>"
            ],
            "image/png": "[encoded data removed]"
          },
          "metadata": {
            "needs_background": "light"
          }
        }
      ]
    },
    {
      "cell_type": "markdown",
      "source": [
        "##Es el tamaño del tumor representativo en la supervivencia de la paciente?"
      ],
      "metadata": {
        "id": "i3Y3vx47F7r_"
      }
    },
    {
      "cell_type": "markdown",
      "source": [
        "Primero analizamos si la distribucion del tamaño del tumor es normal. Utilizamos Kurtosis para dicho analisis"
      ],
      "metadata": {
        "id": "O7GZTx_pGhpZ"
      }
    },
    {
      "cell_type": "code",
      "source": [
        "Breast_analisis.skew(), Breast_analisis.kurt()"
      ],
      "metadata": {
        "colab": {
          "base_uri": "https://localhost:8080/"
        },
        "id": "WLpMZgf9Gv57",
        "outputId": "a0fd498b-dcec-4489-f0bb-67c758ccb49b"
      },
      "execution_count": null,
      "outputs": [
        {
          "output_type": "execute_result",
          "data": {
            "text/plain": [
              "(Age at Diagnosis   -0.155284\n",
              " Tumor Size          3.032792\n",
              " Tumor Stage         0.221406\n",
              " Mutation Count      4.809036\n",
              " dtype: float64, Age at Diagnosis    -0.581758\n",
              " Tumor Size          17.894032\n",
              " Tumor Stage          0.258393\n",
              " Mutation Count      63.000161\n",
              " dtype: float64)"
            ]
          },
          "metadata": {},
          "execution_count": 17
        }
      ]
    },
    {
      "cell_type": "code",
      "source": [
        "#Graficamos para saber si la variable es asimentrica o no\n",
        "import matplotlib.pyplot as plt\n",
        "%matplotlib inline\n",
        "import seaborn as sns\n",
        "import matplotlib as mpl\n",
        "import scipy.stats as st\n",
        "y = Breast_analisis['Tumor Size']\n",
        "plt.figure(1); plt.title('Tumor Size')\n",
        "sns.distplot(y, kde=False, color='pink', fit=st.johnsonsu)"
      ],
      "metadata": {
        "colab": {
          "base_uri": "https://localhost:8080/",
          "height": 313
        },
        "id": "QTOeVjCmGwCt",
        "outputId": "53166423-f85a-47c6-aca8-4f4618273e43"
      },
      "execution_count": null,
      "outputs": [
        {
          "output_type": "execute_result",
          "data": {
            "text/plain": [
              "<matplotlib.axes._subplots.AxesSubplot at 0x7f63f1a98220>"
            ]
          },
          "metadata": {},
          "execution_count": 18
        },
        {
          "output_type": "display_data",
          "data": {
            "text/plain": [
              "<Figure size 432x288 with 1 Axes>"
            ],
            "image/png": "[encoded data removed]"
          },
          "metadata": {
            "needs_background": "light"
          }
        }
      ]
    },
    {
      "cell_type": "code",
      "source": [
        "plt.hist(Breast_analisis.kurt(),orientation = 'vertical',histtype = 'bar',label ='Kurtosis', color ='pink')\n",
        "plt.show()"
      ],
      "metadata": {
        "colab": {
          "base_uri": "https://localhost:8080/",
          "height": 265
        },
        "id": "m6fQRpH_HLdF",
        "outputId": "e105f8f4-4272-4914-8d80-b80dcfbf929b"
      },
      "execution_count": null,
      "outputs": [
        {
          "output_type": "display_data",
          "data": {
            "text/plain": [
              "<Figure size 432x288 with 1 Axes>"
            ],
            "image/png": "[encoded data removed]"
          },
          "metadata": {
            "needs_background": "light"
          }
        }
      ]
    },
    {
      "cell_type": "markdown",
      "source": [
        "La distribucion de la muestra es asimetrica, por lo tanto podemos considerarla en el analisis que se muestra a continuacion"
      ],
      "metadata": {
        "id": "lWnBa3fEG9fi"
      }
    },
    {
      "cell_type": "code",
      "source": [
        "#Corremos la matriz de correlacion ordenado de mayor a menos por columna SalePrice\n",
        "corr_matrix = Breast_analisis.corr()\n",
        "corr_matrix['Tumor Size'].sort_values(ascending=False)"
      ],
      "metadata": {
        "colab": {
          "base_uri": "https://localhost:8080/"
        },
        "id": "xKXcJKCeE9m0",
        "outputId": "91ca0ed5-1366-4108-819e-88a208481651"
      },
      "execution_count": null,
      "outputs": [
        {
          "output_type": "execute_result",
          "data": {
            "text/plain": [
              "Tumor Size          1.000000\n",
              "Tumor Stage         0.491490\n",
              "Age at Diagnosis    0.057769\n",
              "Mutation Count      0.020010\n",
              "Name: Tumor Size, dtype: float64"
            ]
          },
          "metadata": {},
          "execution_count": 20
        }
      ]
    },
    {
      "cell_type": "code",
      "source": [
        "#Desde Pandas importamos scatter_matrix para generar una matriz por atributos\n",
        "from pandas.plotting import scatter_matrix\n",
        "attributes = [\"Tumor Size\", \"Type of Breast Surgery\", \"Vital Status\"]\n",
        "scatter_matrix(Breast_analisis[attributes], figsize = (12,8))"
      ],
      "metadata": {
        "colab": {
          "base_uri": "https://localhost:8080/",
          "height": 539
        },
        "id": "pUvqYmUEGeSO",
        "outputId": "a79d5128-21d2-4bc5-baf5-530f7c346d26"
      },
      "execution_count": null,
      "outputs": [
        {
          "output_type": "execute_result",
          "data": {
            "text/plain": [
              "array([[<matplotlib.axes._subplots.AxesSubplot object at 0x7f63f1838a90>]],\n",
              "      dtype=object)"
            ]
          },
          "metadata": {},
          "execution_count": 21
        },
        {
          "output_type": "display_data",
          "data": {
            "text/plain": [
              "<Figure size 864x576 with 1 Axes>"
            ],
            "image/png": "[encoded data removed]"
          },
          "metadata": {
            "needs_background": "light"
          }
        }
      ]
    },
    {
      "cell_type": "code",
      "source": [
        "#Creamos una comparacion entre el estado de vida y el tamaño del tumor \n",
        "Breast_analisis.plot(x=\"Vital Status\", y=\"Tumor Size\", alpha=0.8)\n",
        "plt.title(\"Tamaño de tumores y muertes \")\n",
        "plt.ylabel(\"Tamaño de tumor\")#titulo \n",
        "plt.xticks(fontsize=10)\n",
        "plt.xscale(\"linear\")"
      ],
      "metadata": {
        "colab": {
          "base_uri": "https://localhost:8080/",
          "height": 295
        },
        "id": "N0M_ztlCGf_V",
        "outputId": "82b1fbc0-b62c-4e57-92a2-a519c378239b"
      },
      "execution_count": null,
      "outputs": [
        {
          "output_type": "display_data",
          "data": {
            "text/plain": [
              "<Figure size 432x288 with 1 Axes>"
            ],
            "image/png": "[encoded data removed]"
          },
          "metadata": {
            "needs_background": "light"
          }
        }
      ]
    },
    {
      "cell_type": "markdown",
      "source": [
        "Con este analisis podemos concluir que existe una correlacion entre el tamaño del turmo y la supervivencia de la paciente\n"
      ],
      "metadata": {
        "id": "jHStK8CnLCWu"
      }
    },
    {
      "cell_type": "markdown",
      "source": [
        "#Modelo de Clasificacion\n"
      ],
      "metadata": {
        "id": "2m8bws0lL6LP"
      }
    },
    {
      "cell_type": "markdown",
      "source": [
        "###Regresion\n",
        "\n"
      ],
      "metadata": {
        "id": "R8fUetPtMsM2"
      }
    },
    {
      "cell_type": "code",
      "source": [
        "from sklearn.ensemble import RandomForestClassifier # Usaremos como clasificador un bosque aleatorio\n",
        "from sklearn.model_selection import train_test_split # vamos a separar nuestro dataset\n",
        "from sklearn import metrics # vamos a medir el desempeño\n",
        "import pandas as pd\n",
        "import numpy as np\n",
        "from matplotlib import pyplot as plt\n",
        "import seaborn as sns\n",
        "sns.set_style('whitegrid')\n",
        "\n",
        "from sklearn.model_selection import train_test_split\n",
        "from sklearn import tree\n",
        "import graphviz # Para visualizar los árboles"
      ],
      "metadata": {
        "id": "DAORJgd3MBzd"
      },
      "execution_count": null,
      "outputs": []
    },
    {
      "cell_type": "code",
      "source": [
        "Breast_clean = Breast_analisis.replace({\"Mastectomy\": \"1\", \"Breast Invasive Ductal Carcinoma\" : \"1\",\"Breast Invasive Lobular Carcinoma\":\"5\", \"Breast Mixed Ductal and Lobular Carcinoma\":\"4\", \"Breast Invasive Ductal Carcinoma\": \"2\",\"Breast\":\"0\",\"Breast Invasive Mixed Mucinous Carcinoma\":\"6\",\"Invasive Breast Carcinoma\":\"7\", \"Metaplastic Breast Cancer\"\n",
        ":\"8\",\"Breast Angiosarcoma\":\"9\", \"Breast Mixed Ductal and Lobular Carcinoma\":\"3\", \"Breast Conserving\": \"2\", \"Living\": \"1\", \"Died of Disease\": \"2\", \"NaN \": \"0\", \"Died of Other Causes\": \"3\",\n",
        "\"High\":\"3\", \"Moderate\": \"2\", \"Low\":\"1\",\n",
        "\"No\":\"0\", \"Yes\":\"1\",\n",
        "\"Post\":\"1\", \"Pre\":\"2\",\n",
        "\"False\":\"1\", \"True\":\"2\"})\n"
      ],
      "metadata": {
        "id": "LBc48qV3lX5k"
      },
      "execution_count": null,
      "outputs": []
    },
    {
      "cell_type": "code",
      "source": [
        "#Estandarizamos los datos\n",
        "from sklearn.preprocessing import PowerTransformer\n",
        "X = Breast_clean.drop(\"Vital Status\", 1).values\n",
        "y = Breast_clean['Vital Status']\n",
        "Yeo=PowerTransformer(method='yeo-johnson').fit_transform(X)"
      ],
      "metadata": {
        "id": "gfvHL9mFD0WM"
      },
      "execution_count": null,
      "outputs": []
    },
    {
      "cell_type": "code",
      "source": [
        "#Normalizamos la muestra\n",
        "df_norm=pd.DataFrame(Yeo)\n",
        "df_norm=df_norm.join(y)"
      ],
      "metadata": {
        "id": "0YqyQdUZEEYk"
      },
      "execution_count": null,
      "outputs": []
    },
    {
      "cell_type": "code",
      "source": [
        "from sklearn.impute import SimpleImputer\n",
        "X = pd.DataFrame(X)\n",
        "imputer = SimpleImputer(missing_values = np.nan, strategy = 'mean',verbose=0)\n",
        "imputer = imputer.fit(X.iloc[:, 1:3])\n",
        "X.iloc[:, 1:3] = imputer.transform(X.iloc[:, 1:3])"
      ],
      "metadata": {
        "id": "JaEroE64Qzj8"
      },
      "execution_count": null,
      "outputs": []
    },
    {
      "cell_type": "code",
      "source": [
        "Breast_clean = Breast_clean.dropna()"
      ],
      "metadata": {
        "id": "I9x1pZaNhDGr"
      },
      "execution_count": null,
      "outputs": []
    },
    {
      "cell_type": "code",
      "source": [
        "#Selecciono variables para futuro analisis\n",
        "from sklearn.datasets import make_classification\n",
        "from sklearn.feature_selection import SelectKBest\n",
        "from sklearn.feature_selection import f_classif\n",
        "from numpy import array \n",
        "selector = SelectKBest(f_classif, k=5)\n",
        "X = X.dropna()\n",
        "selector.fit(X, y)\n"
      ],
      "metadata": {
        "colab": {
          "base_uri": "https://localhost:8080/",
          "height": 363
        },
        "id": "JnDmA_sBET2U",
        "outputId": "9f962434-dcfd-439e-9ddb-dd67ea5cd921"
      },
      "execution_count": null,
      "outputs": [
        {
          "output_type": "error",
          "ename": "ValueError",
          "evalue": "ignored",
          "traceback": [
            "\u001b[0;31m---------------------------------------------------------------------------\u001b[0m",
            "\u001b[0;31mValueError\u001b[0m                                Traceback (most recent call last)",
            "\u001b[0;32m<ipython-input-41-980a34295012>\u001b[0m in \u001b[0;36m<module>\u001b[0;34m\u001b[0m\n\u001b[1;32m      6\u001b[0m \u001b[0mselector\u001b[0m \u001b[0;34m=\u001b[0m \u001b[0mSelectKBest\u001b[0m\u001b[0;34m(\u001b[0m\u001b[0mf_classif\u001b[0m\u001b[0;34m,\u001b[0m \u001b[0mk\u001b[0m\u001b[0;34m=\u001b[0m\u001b[0;36m5\u001b[0m\u001b[0;34m)\u001b[0m\u001b[0;34m\u001b[0m\u001b[0;34m\u001b[0m\u001b[0m\n\u001b[1;32m      7\u001b[0m \u001b[0mX\u001b[0m \u001b[0;34m=\u001b[0m \u001b[0mX\u001b[0m\u001b[0;34m.\u001b[0m\u001b[0mdropna\u001b[0m\u001b[0;34m(\u001b[0m\u001b[0;34m)\u001b[0m\u001b[0;34m\u001b[0m\u001b[0;34m\u001b[0m\u001b[0m\n\u001b[0;32m----> 8\u001b[0;31m \u001b[0mselector\u001b[0m\u001b[0;34m.\u001b[0m\u001b[0mfit\u001b[0m\u001b[0;34m(\u001b[0m\u001b[0mX\u001b[0m\u001b[0;34m,\u001b[0m \u001b[0my\u001b[0m\u001b[0;34m)\u001b[0m\u001b[0;34m\u001b[0m\u001b[0;34m\u001b[0m\u001b[0m\n\u001b[0m",
            "\u001b[0;32m/usr/local/lib/python3.8/dist-packages/sklearn/feature_selection/_univariate_selection.py\u001b[0m in \u001b[0;36mfit\u001b[0;34m(self, X, y)\u001b[0m\n\u001b[1;32m    395\u001b[0m             \u001b[0mReturns\u001b[0m \u001b[0mthe\u001b[0m \u001b[0minstance\u001b[0m \u001b[0mitself\u001b[0m\u001b[0;34m.\u001b[0m\u001b[0;34m\u001b[0m\u001b[0;34m\u001b[0m\u001b[0m\n\u001b[1;32m    396\u001b[0m         \"\"\"\n\u001b[0;32m--> 397\u001b[0;31m         X, y = self._validate_data(\n\u001b[0m\u001b[1;32m    398\u001b[0m             \u001b[0mX\u001b[0m\u001b[0;34m,\u001b[0m \u001b[0my\u001b[0m\u001b[0;34m,\u001b[0m \u001b[0maccept_sparse\u001b[0m\u001b[0;34m=\u001b[0m\u001b[0;34m[\u001b[0m\u001b[0;34m\"csr\"\u001b[0m\u001b[0;34m,\u001b[0m \u001b[0;34m\"csc\"\u001b[0m\u001b[0;34m]\u001b[0m\u001b[0;34m,\u001b[0m \u001b[0mmulti_output\u001b[0m\u001b[0;34m=\u001b[0m\u001b[0;32mTrue\u001b[0m\u001b[0;34m\u001b[0m\u001b[0;34m\u001b[0m\u001b[0m\n\u001b[1;32m    399\u001b[0m         )\n",
            "\u001b[0;32m/usr/local/lib/python3.8/dist-packages/sklearn/base.py\u001b[0m in \u001b[0;36m_validate_data\u001b[0;34m(self, X, y, reset, validate_separately, **check_params)\u001b[0m\n\u001b[1;32m    579\u001b[0m                 \u001b[0my\u001b[0m \u001b[0;34m=\u001b[0m \u001b[0mcheck_array\u001b[0m\u001b[0;34m(\u001b[0m\u001b[0my\u001b[0m\u001b[0;34m,\u001b[0m \u001b[0;34m**\u001b[0m\u001b[0mcheck_y_params\u001b[0m\u001b[0;34m)\u001b[0m\u001b[0;34m\u001b[0m\u001b[0;34m\u001b[0m\u001b[0m\n\u001b[1;32m    580\u001b[0m             \u001b[0;32melse\u001b[0m\u001b[0;34m:\u001b[0m\u001b[0;34m\u001b[0m\u001b[0;34m\u001b[0m\u001b[0m\n\u001b[0;32m--> 581\u001b[0;31m                 \u001b[0mX\u001b[0m\u001b[0;34m,\u001b[0m \u001b[0my\u001b[0m \u001b[0;34m=\u001b[0m \u001b[0mcheck_X_y\u001b[0m\u001b[0;34m(\u001b[0m\u001b[0mX\u001b[0m\u001b[0;34m,\u001b[0m \u001b[0my\u001b[0m\u001b[0;34m,\u001b[0m \u001b[0;34m**\u001b[0m\u001b[0mcheck_params\u001b[0m\u001b[0;34m)\u001b[0m\u001b[0;34m\u001b[0m\u001b[0;34m\u001b[0m\u001b[0m\n\u001b[0m\u001b[1;32m    582\u001b[0m             \u001b[0mout\u001b[0m \u001b[0;34m=\u001b[0m \u001b[0mX\u001b[0m\u001b[0;34m,\u001b[0m \u001b[0my\u001b[0m\u001b[0;34m\u001b[0m\u001b[0;34m\u001b[0m\u001b[0m\n\u001b[1;32m    583\u001b[0m \u001b[0;34m\u001b[0m\u001b[0m\n",
            "\u001b[0;32m/usr/local/lib/python3.8/dist-packages/sklearn/utils/validation.py\u001b[0m in \u001b[0;36mcheck_X_y\u001b[0;34m(X, y, accept_sparse, accept_large_sparse, dtype, order, copy, force_all_finite, ensure_2d, allow_nd, multi_output, ensure_min_samples, ensure_min_features, y_numeric, estimator)\u001b[0m\n\u001b[1;32m    977\u001b[0m     )\n\u001b[1;32m    978\u001b[0m \u001b[0;34m\u001b[0m\u001b[0m\n\u001b[0;32m--> 979\u001b[0;31m     \u001b[0my\u001b[0m \u001b[0;34m=\u001b[0m \u001b[0m_check_y\u001b[0m\u001b[0;34m(\u001b[0m\u001b[0my\u001b[0m\u001b[0;34m,\u001b[0m \u001b[0mmulti_output\u001b[0m\u001b[0;34m=\u001b[0m\u001b[0mmulti_output\u001b[0m\u001b[0;34m,\u001b[0m \u001b[0my_numeric\u001b[0m\u001b[0;34m=\u001b[0m\u001b[0my_numeric\u001b[0m\u001b[0;34m)\u001b[0m\u001b[0;34m\u001b[0m\u001b[0;34m\u001b[0m\u001b[0m\n\u001b[0m\u001b[1;32m    980\u001b[0m \u001b[0;34m\u001b[0m\u001b[0m\n\u001b[1;32m    981\u001b[0m     \u001b[0mcheck_consistent_length\u001b[0m\u001b[0;34m(\u001b[0m\u001b[0mX\u001b[0m\u001b[0;34m,\u001b[0m \u001b[0my\u001b[0m\u001b[0;34m)\u001b[0m\u001b[0;34m\u001b[0m\u001b[0;34m\u001b[0m\u001b[0m\n",
            "\u001b[0;32m/usr/local/lib/python3.8/dist-packages/sklearn/utils/validation.py\u001b[0m in \u001b[0;36m_check_y\u001b[0;34m(y, multi_output, y_numeric)\u001b[0m\n\u001b[1;32m    987\u001b[0m     \u001b[0;34m\"\"\"Isolated part of check_X_y dedicated to y validation\"\"\"\u001b[0m\u001b[0;34m\u001b[0m\u001b[0;34m\u001b[0m\u001b[0m\n\u001b[1;32m    988\u001b[0m     \u001b[0;32mif\u001b[0m \u001b[0mmulti_output\u001b[0m\u001b[0;34m:\u001b[0m\u001b[0;34m\u001b[0m\u001b[0;34m\u001b[0m\u001b[0m\n\u001b[0;32m--> 989\u001b[0;31m         y = check_array(\n\u001b[0m\u001b[1;32m    990\u001b[0m             \u001b[0my\u001b[0m\u001b[0;34m,\u001b[0m \u001b[0maccept_sparse\u001b[0m\u001b[0;34m=\u001b[0m\u001b[0;34m\"csr\"\u001b[0m\u001b[0;34m,\u001b[0m \u001b[0mforce_all_finite\u001b[0m\u001b[0;34m=\u001b[0m\u001b[0;32mTrue\u001b[0m\u001b[0;34m,\u001b[0m \u001b[0mensure_2d\u001b[0m\u001b[0;34m=\u001b[0m\u001b[0;32mFalse\u001b[0m\u001b[0;34m,\u001b[0m \u001b[0mdtype\u001b[0m\u001b[0;34m=\u001b[0m\u001b[0;32mNone\u001b[0m\u001b[0;34m\u001b[0m\u001b[0;34m\u001b[0m\u001b[0m\n\u001b[1;32m    991\u001b[0m         )\n",
            "\u001b[0;32m/usr/local/lib/python3.8/dist-packages/sklearn/utils/validation.py\u001b[0m in \u001b[0;36mcheck_array\u001b[0;34m(array, accept_sparse, accept_large_sparse, dtype, order, copy, force_all_finite, ensure_2d, allow_nd, ensure_min_samples, ensure_min_features, estimator)\u001b[0m\n\u001b[1;32m    798\u001b[0m \u001b[0;34m\u001b[0m\u001b[0m\n\u001b[1;32m    799\u001b[0m         \u001b[0;32mif\u001b[0m \u001b[0mforce_all_finite\u001b[0m\u001b[0;34m:\u001b[0m\u001b[0;34m\u001b[0m\u001b[0;34m\u001b[0m\u001b[0m\n\u001b[0;32m--> 800\u001b[0;31m             \u001b[0m_assert_all_finite\u001b[0m\u001b[0;34m(\u001b[0m\u001b[0marray\u001b[0m\u001b[0;34m,\u001b[0m \u001b[0mallow_nan\u001b[0m\u001b[0;34m=\u001b[0m\u001b[0mforce_all_finite\u001b[0m \u001b[0;34m==\u001b[0m \u001b[0;34m\"allow-nan\"\u001b[0m\u001b[0;34m)\u001b[0m\u001b[0;34m\u001b[0m\u001b[0;34m\u001b[0m\u001b[0m\n\u001b[0m\u001b[1;32m    801\u001b[0m \u001b[0;34m\u001b[0m\u001b[0m\n\u001b[1;32m    802\u001b[0m     \u001b[0;32mif\u001b[0m \u001b[0mensure_min_samples\u001b[0m \u001b[0;34m>\u001b[0m \u001b[0;36m0\u001b[0m\u001b[0;34m:\u001b[0m\u001b[0;34m\u001b[0m\u001b[0;34m\u001b[0m\u001b[0m\n",
            "\u001b[0;32m/usr/local/lib/python3.8/dist-packages/sklearn/utils/validation.py\u001b[0m in \u001b[0;36m_assert_all_finite\u001b[0;34m(X, allow_nan, msg_dtype)\u001b[0m\n\u001b[1;32m    120\u001b[0m     \u001b[0;32melif\u001b[0m \u001b[0mX\u001b[0m\u001b[0;34m.\u001b[0m\u001b[0mdtype\u001b[0m \u001b[0;34m==\u001b[0m \u001b[0mnp\u001b[0m\u001b[0;34m.\u001b[0m\u001b[0mdtype\u001b[0m\u001b[0;34m(\u001b[0m\u001b[0;34m\"object\"\u001b[0m\u001b[0;34m)\u001b[0m \u001b[0;32mand\u001b[0m \u001b[0;32mnot\u001b[0m \u001b[0mallow_nan\u001b[0m\u001b[0;34m:\u001b[0m\u001b[0;34m\u001b[0m\u001b[0;34m\u001b[0m\u001b[0m\n\u001b[1;32m    121\u001b[0m         \u001b[0;32mif\u001b[0m \u001b[0m_object_dtype_isnan\u001b[0m\u001b[0;34m(\u001b[0m\u001b[0mX\u001b[0m\u001b[0;34m)\u001b[0m\u001b[0;34m.\u001b[0m\u001b[0many\u001b[0m\u001b[0;34m(\u001b[0m\u001b[0;34m)\u001b[0m\u001b[0;34m:\u001b[0m\u001b[0;34m\u001b[0m\u001b[0;34m\u001b[0m\u001b[0m\n\u001b[0;32m--> 122\u001b[0;31m             \u001b[0;32mraise\u001b[0m \u001b[0mValueError\u001b[0m\u001b[0;34m(\u001b[0m\u001b[0;34m\"Input contains NaN\"\u001b[0m\u001b[0;34m)\u001b[0m\u001b[0;34m\u001b[0m\u001b[0;34m\u001b[0m\u001b[0m\n\u001b[0m\u001b[1;32m    123\u001b[0m \u001b[0;34m\u001b[0m\u001b[0m\n\u001b[1;32m    124\u001b[0m \u001b[0;34m\u001b[0m\u001b[0m\n",
            "\u001b[0;31mValueError\u001b[0m: Input contains NaN"
          ]
        }
      ]
    },
    {
      "cell_type": "code",
      "source": [
        "from sklearn.model_selection import train_test_split\n",
        "train, test = train_test_split(Breast_clean, test_size = 0.30, random_state = 100) "
      ],
      "metadata": {
        "id": "_7u6oy3bdfC5"
      },
      "execution_count": null,
      "outputs": []
    },
    {
      "cell_type": "code",
      "source": [
        "X_train"
      ],
      "metadata": {
        "id": "1DWjPBcpdhC1",
        "colab": {
          "base_uri": "https://localhost:8080/",
          "height": 173
        },
        "outputId": "8989d27f-50ec-4c1a-84d8-6958006fc617"
      },
      "execution_count": null,
      "outputs": [
        {
          "output_type": "error",
          "ename": "NameError",
          "evalue": "ignored",
          "traceback": [
            "\u001b[0;31m---------------------------------------------------------------------------\u001b[0m",
            "\u001b[0;31mNameError\u001b[0m                                 Traceback (most recent call last)",
            "\u001b[0;32m<ipython-input-38-931765772341>\u001b[0m in \u001b[0;36m<module>\u001b[0;34m\u001b[0m\n\u001b[0;32m----> 1\u001b[0;31m \u001b[0mX_train\u001b[0m\u001b[0;34m\u001b[0m\u001b[0;34m\u001b[0m\u001b[0m\n\u001b[0m",
            "\u001b[0;31mNameError\u001b[0m: name 'X_train' is not defined"
          ]
        }
      ]
    },
    {
      "cell_type": "code",
      "source": [
        "y_train"
      ],
      "metadata": {
        "id": "oQEO_PNtdhMU"
      },
      "execution_count": null,
      "outputs": []
    },
    {
      "cell_type": "code",
      "source": [
        "y_test"
      ],
      "metadata": {
        "id": "HIrlzORTPaYM"
      },
      "execution_count": null,
      "outputs": []
    },
    {
      "cell_type": "code",
      "source": [
        "#Separación en Train y Test\n",
        "X = Breast_clean.drop(\"Vital Status\", axis=1)\n",
        "y = Breast_clean[\"Vital Status\"]"
      ],
      "metadata": {
        "id": "tidjbFHVTPTx"
      },
      "execution_count": null,
      "outputs": []
    },
    {
      "cell_type": "code",
      "source": [
        "#Train y Test Split\n",
        "from sklearn.model_selection import train_test_split \n",
        "\n",
        "X_train, X_test, y_train, y_test = train_test_split(X, y, test_size=0.30, random_state=42) "
      ],
      "metadata": {
        "id": "WbnjyP4mel52"
      },
      "execution_count": null,
      "outputs": []
    },
    {
      "cell_type": "code",
      "source": [
        "#Regresion Lineal\n",
        "from sklearn.linear_model import LinearRegression\n",
        "regressor = LinearRegression()\n",
        "regressor.fit(X_train, y_train)"
      ],
      "metadata": {
        "id": "IM3g4iALxUY2"
      },
      "execution_count": null,
      "outputs": []
    },
    {
      "cell_type": "code",
      "source": [
        "#Recuperamos la intersección\n",
        "print(regressor.intercept_)"
      ],
      "metadata": {
        "id": "oy8SAjVv1OKU"
      },
      "execution_count": null,
      "outputs": []
    },
    {
      "cell_type": "code",
      "source": [
        "#La pendiente\n",
        "print(regressor.coef_)"
      ],
      "metadata": {
        "id": "oPrLi8Tz1Q1h"
      },
      "execution_count": null,
      "outputs": []
    },
    {
      "cell_type": "code",
      "source": [
        "#Hacemos nuestras predicciones\n",
        "y_pred = regressor.predict(X_test)"
      ],
      "metadata": {
        "id": "cI8kw8Bo1UUw"
      },
      "execution_count": null,
      "outputs": []
    },
    {
      "cell_type": "code",
      "source": [
        "#Convertimos en df la salida\n",
        "import pandas as pd\n",
        "df = pd.DataFrame({'Actual': y_test, 'Predicted': y_pred})\n",
        "df"
      ],
      "metadata": {
        "id": "VMCZJhWt1X4F"
      },
      "execution_count": null,
      "outputs": []
    },
    {
      "cell_type": "code",
      "source": [
        "#Evaluación de Modelos\n",
        "from sklearn import metrics\n",
        "import numpy as np\n",
        "print('Mean Absolute Error:', metrics.mean_absolute_error(y_test, y_pred))\n",
        "print('Mean Squared Error:', metrics.mean_squared_error(y_test, y_pred))\n",
        "print('Root Mean Squared Error:', np.sqrt(metrics.mean_squared_error(y_test, y_pred)))"
      ],
      "metadata": {
        "id": "bRr22LGj1Z0N"
      },
      "execution_count": null,
      "outputs": []
    },
    {
      "cell_type": "code",
      "source": [
        "metrics.max_error(y_test,y_pred)"
      ],
      "metadata": {
        "id": "kZls-fGw1Z5C"
      },
      "execution_count": null,
      "outputs": []
    },
    {
      "cell_type": "code",
      "source": [
        "metrics.median_absolute_error(y_test,y_pred)"
      ],
      "metadata": {
        "id": "qkdrqhUJ1Z7q"
      },
      "execution_count": null,
      "outputs": []
    },
    {
      "cell_type": "code",
      "source": [
        "#Definicion aleatoria de la division de los dato entre entramiento y prueba\n",
        "train, test = train_test_split(Breast_clean,test_size = 0.30)\n",
        "\n",
        "print(\"Ejemplos usados para entrenar: \", len(train))\n",
        "print(\"Ejemplos usados para test: \", len(test))\n"
      ],
      "metadata": {
        "id": "WINTb8-XeqQH"
      },
      "execution_count": null,
      "outputs": []
    },
    {
      "cell_type": "markdown",
      "source": [
        "###Arbol de decision"
      ],
      "metadata": {
        "id": "nR4LNjP-o7eJ"
      }
    },
    {
      "cell_type": "code",
      "source": [
        "from sklearn.ensemble import RandomForestClassifier # Usaremos como clasificador un bosque aleatorio\n",
        "from sklearn.model_selection import train_test_split # vamos a separar nuestro dataset\n",
        "from sklearn import metrics # vamos a medir el desempeño\n",
        "import pandas as pd\n",
        "import numpy as np\n",
        "from matplotlib import pyplot as plt\n",
        "import seaborn as sns\n",
        "sns.set_style('whitegrid')\n",
        "\n",
        "from sklearn.model_selection import train_test_split\n",
        "from sklearn import tree\n",
        "import graphviz # Para visualizar los árboles"
      ],
      "metadata": {
        "id": "xizAJ8lX3-EF"
      },
      "execution_count": null,
      "outputs": []
    },
    {
      "cell_type": "code",
      "source": [
        "from sklearn.tree import DecisionTreeClassifier\n",
        "\n",
        "target = 'Vital Status'\n",
        "features = [\"Tumor Stage\",\"Age at Diagnosis\", \"Type of Breast Surgery\"]\n",
        "\n",
        "clf = DecisionTreeClassifier()\n",
        "train, test = train_test_split(Breast_clean, test_size = 0.30)\n",
        "clf = clf.fit(train[features], train[target])"
      ],
      "metadata": {
        "id": "RuolKMo7euC2"
      },
      "execution_count": null,
      "outputs": []
    },
    {
      "cell_type": "code",
      "source": [
        "train, test = train_test_split(Breast_clean, test_size = 0.30, random_state = 100)\n"
      ],
      "metadata": {
        "id": "OWb3B4F6mWyE"
      },
      "execution_count": null,
      "outputs": []
    },
    {
      "cell_type": "code",
      "source": [
        "#Graficamos el arbol de decision\n",
        "features_response_ss = ['Tumor Stage', 'Type of Breast Surgery', 'Tumor Size', 'Age at Diagnosis']\n",
        "Breast_clean.groupby('Vital Status')['Vital Status'].count()/len(Breast_clean)\n",
        "X_train, X_test, y_train, y_test = train_test_split(Breast_clean[features_response_ss[:-1]].values, Breast_clean['Vital Status'].values,test_size=0.2, random_state=24)\n",
        "dt = tree.DecisionTreeClassifier(max_depth=2) # Definición del modelo                \n",
        "dt = dt.fit(X_train, y_train) # Ajustamos el modelo\n",
        "dot_data = tree.export_graphviz(dt,\n",
        "                                out_file=None,\n",
        "                                filled=True,\n",
        "                                rounded=True,\n",
        "                                feature_names=features_response_ss[:-1],\n",
        "                                proportion=True,\n",
        "                                class_names=[\n",
        "                                    'Died of Other Causes', 'Died of Disease', 'Living']) \n",
        "graph = graphviz.Source(dot_data) # Creamos las imagen del arbol\n",
        "graph"
      ],
      "metadata": {
        "id": "M3wCpiDdmW3h"
      },
      "execution_count": null,
      "outputs": []
    },
    {
      "cell_type": "code",
      "source": [
        "# from sklearn.datasets import load_breast_cancer # vamos a usar el dataset sobre cancer de mama\n",
        "from sklearn.ensemble import RandomForestClassifier # Usaremos como clasificador un bosque aleatorio\n",
        "from sklearn.model_selection import train_test_split # vamos a separar nuestro dataset\n",
        "from sklearn import metrics # vamos a medir el desempeño\n",
        "import pandas as pd\n",
        "import numpy as np\n",
        "from matplotlib import pyplot as plt\n",
        "import seaborn as sns\n",
        "sns.set_style('whitegrid')\n",
        "\n",
        " # Separamos en entrenamiento/test en razon 80/20 %\n",
        "X_train, X_test, y_train, y_test = train_test_split(X,y,test_size=0.2, random_state=1)\n",
        "\n",
        "# Creamos un modelo Random Forest con parametros por defect\n",
        "modelo = RandomForestClassifier(random_state=1)\n",
        "modelo.fit(X_train, y_train)\n",
        "# Obtenemos las predicciones del modelo con X_test\n",
        "preds = modelo.predict(X_test) "
      ],
      "metadata": {
        "id": "M4HnV5lr3hEc"
      },
      "execution_count": null,
      "outputs": []
    },
    {
      "cell_type": "code",
      "source": [
        "\n",
        "plt.figure(figsize=(10,6))\n",
        "metrics.plot_confusion_matrix(modelo, X_test, y_test, display_labels=['ME', 'MOC', \"Vive\"])"
      ],
      "metadata": {
        "id": "hVhqhXdI4ZqF"
      },
      "execution_count": null,
      "outputs": []
    },
    {
      "cell_type": "markdown",
      "source": [
        "No es un buen modelo. Muchos falsos positivos y postivos negativos"
      ],
      "metadata": {
        "id": "ejE2diGE4bWZ"
      }
    },
    {
      "cell_type": "markdown",
      "source": [
        "#Entrenamiento y Testeo\n",
        "\n"
      ],
      "metadata": {
        "id": "qizHDNQwNvsu"
      }
    },
    {
      "cell_type": "markdown",
      "source": [
        "#Random Forest"
      ],
      "metadata": {
        "id": "bBDKkbuF5SQH"
      }
    },
    {
      "cell_type": "code",
      "source": [
        "from sklearn.ensemble import RandomForestClassifier\n",
        "from sklearn.datasets import make_classification\n",
        "rf = RandomForestClassifier(random_state=42, n_estimators=100, \n",
        "                               class_weight=\"balanced\", max_features=\"log2\") \n",
        "rf.fit(X_train, y_train)"
      ],
      "metadata": {
        "id": "-dsYXETH5UZv"
      },
      "execution_count": null,
      "outputs": []
    },
    {
      "cell_type": "code",
      "source": [
        "y_test_pred_rf = rf.predict(X_test)\n",
        "y_train_pred_rf =rf.predict(X_train)"
      ],
      "metadata": {
        "id": "20axmW0w5UcJ"
      },
      "execution_count": null,
      "outputs": []
    },
    {
      "cell_type": "code",
      "source": [
        "plt.figure(figsize=(14,10))\n",
        "importances = rf.feature_importances_\n",
        "columns = X_test.columns\n",
        "sns.barplot(columns, importances)\n",
        "plt.title('Importancia de cada Feature en RandomForest')\n",
        "plt.show()"
      ],
      "metadata": {
        "id": "zcN94nvl5UeF"
      },
      "execution_count": null,
      "outputs": []
    },
    {
      "cell_type": "code",
      "source": [
        "from sklearn.metrics import classification_report\n",
        "print(classification_report(y_test, y_test_pred_rf))"
      ],
      "metadata": {
        "id": "6Sgr7taQ5UgY"
      },
      "execution_count": null,
      "outputs": []
    },
    {
      "cell_type": "markdown",
      "source": [
        "#SCV"
      ],
      "metadata": {
        "id": "EJqgTBZZ5pNH"
      }
    },
    {
      "cell_type": "code",
      "source": [
        "from sklearn.svm import SVC\n",
        "from sklearn.model_selection import train_test_split\n",
        "from sklearn.metrics import accuracy_score"
      ],
      "metadata": {
        "id": "z1pCprN-4ppY"
      },
      "execution_count": null,
      "outputs": []
    },
    {
      "cell_type": "code",
      "source": [
        "modelo = SVC(C=0.1,kernel='rbf',random_state=42)\n",
        "modelo.fit(X_train, y_train)"
      ],
      "metadata": {
        "id": "77sJ_ajR4sms"
      },
      "execution_count": null,
      "outputs": []
    },
    {
      "cell_type": "code",
      "source": [
        "y_test_pred_scv = modelo.predict(X_test)"
      ],
      "metadata": {
        "id": "MOOI57Qd4zsJ"
      },
      "execution_count": null,
      "outputs": []
    },
    {
      "cell_type": "code",
      "source": [
        "from sklearn.metrics import classification_report\n",
        "print(classification_report(y_test, y_test_pred_scv))"
      ],
      "metadata": {
        "id": "NcBaGzKB43Jf"
      },
      "execution_count": null,
      "outputs": []
    },
    {
      "cell_type": "code",
      "source": [
        "#Entrenamiento del modelo\n",
        "from sklearn.linear_model import LinearRegression\n",
        "regressor = LinearRegression()\n",
        "regressor.fit(X_train, y_train)"
      ],
      "metadata": {
        "id": "mU68KEmC43Lu"
      },
      "execution_count": null,
      "outputs": []
    },
    {
      "cell_type": "code",
      "source": [
        "y_pred_reg = regressor.predict(X_test)"
      ],
      "metadata": {
        "id": "wS5Kxgkl43OI"
      },
      "execution_count": null,
      "outputs": []
    },
    {
      "cell_type": "code",
      "source": [
        "print(classification_report(y_test, y_test_pred_rf))"
      ],
      "metadata": {
        "id": "xoHg3sbd47m9"
      },
      "execution_count": null,
      "outputs": []
    },
    {
      "cell_type": "markdown",
      "source": [
        "Conclusion\n",
        "\n",
        "Como podemos ver en los modelos que utilizamos, es mejor medir este dataset con los Random Forest porque el nivel de precision es mayor."
      ],
      "metadata": {
        "id": "HD-85bm66jD4"
      }
    },
    {
      "cell_type": "markdown",
      "source": [
        "#Revision de modelos con Stratified K Fold"
      ],
      "metadata": {
        "id": "QBGSqMju64of"
      }
    },
    {
      "cell_type": "markdown",
      "source": [
        "Random Forest"
      ],
      "metadata": {
        "id": "g5j6QDuoOUFA"
      }
    },
    {
      "cell_type": "code",
      "source": [
        "from sklearn.model_selection import StratifiedKFold\n",
        "from sklearn.model_selection import cross_val_score\n",
        "from sklearn.linear_model import LogisticRegression\n",
        "from sklearn.model_selection import train_test_split\n",
        "from sklearn.metrics import accuracy_score\n",
        "from sklearn.metrics import recall_score\n",
        "from sklearn.metrics import f1_score\n",
        "from sklearn.metrics import precision_score\n",
        "from sklearn.model_selection import train_test_split\n",
        "from sklearn.ensemble import RandomForestClassifier\n",
        "from sklearn.tree import DecisionTreeClassifier"
      ],
      "metadata": {
        "id": "Iue_TvdR7Egp"
      },
      "execution_count": null,
      "outputs": []
    },
    {
      "cell_type": "code",
      "source": [
        "(X_train, X_test,y_train, y_test) = train_test_split(X,y,stratify=y,test_size=0.30,random_state=42)\n",
        "model = RandomForestClassifier(random_state=42, n_estimators=100, # n_estimators representa el numero de arboles a usar\n",
        "                               class_weight=\"balanced\", max_features=\"log2\")\n",
        "model.fit(X_train, y_train)\n",
        "y_test_pred = model.predict(X_test) #Prediccion en Test\n",
        "y_test_pred\n",
        "from sklearn.metrics import accuracy_score\n",
        "#Calculo el accuracy en Test\n",
        "test_accuracy = accuracy_score(y_test, y_test_pred)\n",
        "\n",
        "print('% de aciertos sobre el set de evaluación:',test_accuracy)"
      ],
      "metadata": {
        "id": "EEmGJOiGU_eS"
      },
      "execution_count": null,
      "outputs": []
    },
    {
      "cell_type": "markdown",
      "source": [
        "Validacion del modelo\n"
      ],
      "metadata": {
        "id": "iHiIsNUfVNqF"
      }
    },
    {
      "cell_type": "code",
      "source": [
        "# Se incluye matriz de confusión \n",
        "\n",
        "from sklearn.metrics import confusion_matrix\n",
        "\n",
        "matriz = confusion_matrix(y_test, y_test_pred)\n",
        "\n",
        "print('Matriz de Confusión de datos de Test:')\n",
        "\n",
        "print(matriz)"
      ],
      "metadata": {
        "id": "0lwvP-26VM1E"
      },
      "execution_count": null,
      "outputs": []
    },
    {
      "cell_type": "code",
      "source": [
        "# Reporte de clasificación o analisis de resultados.\n",
        "from sklearn.metrics import classification_report\n",
        "\n",
        "print(classification_report(y_test, y_test_pred))"
      ],
      "metadata": {
        "id": "thTTuSPrVM57"
      },
      "execution_count": null,
      "outputs": []
    },
    {
      "cell_type": "markdown",
      "source": [
        "Conclusion,\n",
        "\n",
        "Ambos modelos nos estan dando buenos resultados de aciertos"
      ],
      "metadata": {
        "id": "8OCWx9fSVo_B"
      }
    },
    {
      "cell_type": "markdown",
      "source": [
        "Metodo de Ensamble\n",
        "\n",
        "Utilizamos el algoritmo \"XG Boost\" para implementar optimizacion en nuestro modelo"
      ],
      "metadata": {
        "id": "mccJkqg1V3dA"
      }
    },
    {
      "cell_type": "code",
      "source": [
        "!pip install xgboost"
      ],
      "metadata": {
        "id": "4BoaTxjnWJEU"
      },
      "execution_count": null,
      "outputs": []
    },
    {
      "cell_type": "code",
      "source": [
        "\n",
        "import xgboost as xgb #pip install xgboost\n",
        "from sklearn.linear_model import LinearRegression as LR\n",
        "X = Breast_clean.drop(\"Vital Status\", axis=1)\n",
        "y = Breast_clean[\"Vital Status\"]\n",
        "X_train, X_test, y_train, y_test = train_test_split(X, y, test_size = 0.3, random_state=123)\n",
        "clf_xgb = xgb.XGBClassifier(objective='binary:logistic', n_estimators=15,seed=42,max_depth=5, learning_rate=0.01)\n",
        "clf_xgb.fit(X_train,y_train) #Entrenamos el modelo\n",
        "y_test_pred = clf_xgb.predict(X_test) #Prediccion en Test\n",
        "#Calculo el accuracy en Test\n",
        "test_accuracy = accuracy_score(y_test, y_test_pred)\n",
        "\n",
        "print('% de aciertos sobre el set de evaluación:',test_accuracy)\n"
      ],
      "metadata": {
        "id": "ZB-hgItBVM8y"
      },
      "execution_count": null,
      "outputs": []
    },
    {
      "cell_type": "code",
      "source": [
        "#Creamos el procedimiento Stratified K Fold \n",
        "skf = StratifiedKFold(n_splits=5, random_state=42, shuffle=True)\n",
        "skf.get_n_splits(Breast_clean.values, y.values)"
      ],
      "metadata": {
        "id": "nO0S7CMs7EjD"
      },
      "execution_count": null,
      "outputs": []
    },
    {
      "cell_type": "code",
      "source": [
        "train, test=list(skf.split(Breast_clean.values, y.values))[0]"
      ],
      "metadata": {
        "id": "6lBzTpo-7ElL"
      },
      "execution_count": null,
      "outputs": []
    },
    {
      "cell_type": "code",
      "source": [
        "list_f1=[]\n",
        "list_sensibilidad=[]\n",
        "\n",
        "# Iterate over the splits\n",
        "for i in range(0,skf.get_n_splits(Breast_clean, y)):\n",
        "    # Calculo de indices\n",
        "    train, test = list(skf.split(Breast_clean, y))[i]\n",
        "    # Separar train y test\n",
        "    X_train_n=Breast_clean.iloc[train,:]\n",
        "    X_test_n=Breast_clean.iloc[test,:]\n",
        "    y_test_n= y[test]\n",
        "    y_train_n=y[train]\n",
        "\n",
        "    # Ajustar el modelo\n",
        "    rf.fit(X_train_n, y_train_n)\n",
        "    # Predicciones\n",
        "    pred= rf.predict(X_test_n)\n",
        "    # Calculo del error\n",
        "    f1= f1_score(y_true=y)"
      ],
      "metadata": {
        "id": "qsWFp9Cjnh5W"
      },
      "execution_count": null,
      "outputs": []
    },
    {
      "cell_type": "code",
      "source": [
        "# Modelo vacio\n",
        "list_f1=[]\n",
        "list_sensibilidad=[]\n",
        "for i in range(0,skf.get_n_splits(Breast_clean, y)):\n",
        "  # Calculo de indices\n",
        "  train, test = list(skf.split(Breast_clean.values, y))[i]\n",
        "  # Separar train y test\n",
        "  X_train_n=Breast_clean.values[train]\n",
        "  X_test_n=Breast_clean.values[test]\n",
        "  y_test_n= y_test[test]\n",
        "  y_train_n=y_train[train]\n",
        " \n",
        "  # Ajustar el modelo\n",
        "  rf.fit(X_train_n, y_train_n)\n",
        "  # Predicciones\n",
        "  pred= rf.predict(X_test_n)\n",
        "  # Calculo del error\n",
        "  f1= f1_score(y_true=y_test_n, y_pred= pred)\n",
        "  sensibilidad= recall_score(y_true=y_test_n, y_pred= pred)\n",
        "  print('Iteracion: ',i+1, ' f1:', f1)\n",
        "  print('Iteracion: ',i+1, ' Sensibilidad:', sensibilidad)\n",
        "  list_f1.append(f1)\n",
        "  list_sensibilidad.append(sensibilidad)\n",
        "# Promedio de accuracy\n",
        "import numpy as np\n",
        "print('F1 promedio:', np.mean(list_f1))\n",
        "print('Sensibilidad promedio:', np.mean(list_sensibilidad))"
      ],
      "metadata": {
        "id": "IOE7ez6d7EnR"
      },
      "execution_count": null,
      "outputs": []
    },
    {
      "cell_type": "markdown",
      "source": [
        "Arbol de decisión"
      ],
      "metadata": {
        "id": "v9l_FUz1CGrB"
      }
    },
    {
      "cell_type": "code",
      "source": [
        "list_f1=[]\n",
        "list_sensibilidad=[]\n",
        "for i in range(0,skf.get_n_splits(Breast_clean, y)):\n",
        "  # Calculo de indices\n",
        "  train, test = list(skf.split(Breast_clean.values, y))[i]\n",
        "  # Separar train y test\n",
        "  X_train_n=Breast_clean.values[train]\n",
        "  X_test_n=Breast_clean.values[test]\n",
        "  y_test_n= y[test]\n",
        "  y_train_n=y[train]\n",
        " \n",
        "  # Ajustar el modelo\n",
        "  tree.fit(X_train_n, y_train_n)\n",
        "  # Predicciones\n",
        "  pred= tree.predict(X_test_n)\n",
        "  # Calculo del error\n",
        "  f1= f1_score(y_true=y_test_n, y_pred= pred)\n",
        "  sensibilidad= recall_score(y_true=y_test_n, y_pred= pred)\n",
        "  print('Iteracion: ',i+1, ' f1:', f1, 'Sensibilidad', sensibilidad)\n",
        "  list_f1.append(f1)\n",
        "  list_sensibilidad.append(sensibilidad)\n",
        "# Promedio de accuracy\n",
        "import numpy as np\n",
        "print('F1 promedio:', np.mean(list_f1))\n",
        "print('Sensibilidad promedio:', np.mean(list_sensibilidad))"
      ],
      "metadata": {
        "id": "0pao2nIp7Et-"
      },
      "execution_count": null,
      "outputs": []
    },
    {
      "cell_type": "markdown",
      "source": [
        "#Hypertuning con RandomizedSearchC"
      ],
      "metadata": {
        "id": "qHS6bu0dO23q"
      }
    },
    {
      "cell_type": "code",
      "source": [
        "#Importamos las librerias necesarias\n",
        "import xgboost as xgb\n",
        "from sklearn.metrics import mean_squared_error\n",
        "from sklearn.metrics import accuracy_score\n",
        "from sklearn.model_selection import GridSearchCV\n",
        "from sklearn.model_selection import RandomizedSearchCV\n",
        "from sklearn.experimental import enable_halving_search_cv\n",
        "from sklearn.model_selection import HalvingGridSearchCV\n",
        "from sklearn.model_selection import HalvingRandomSearchCV"
      ],
      "metadata": {
        "id": "HQWT4772_FmP"
      },
      "execution_count": null,
      "outputs": []
    },
    {
      "cell_type": "markdown",
      "source": [
        "Random Forest"
      ],
      "metadata": {
        "id": "N39PwLUM_N7w"
      }
    },
    {
      "cell_type": "code",
      "source": [
        "params_grid = {'bootstrap': [True, False],\n",
        " 'max_depth': [10, 20, 30, 40, 50, 60, 70, 80, 90, 100, None],\n",
        " 'max_features': ['auto', 'sqrt'],\n",
        " 'min_samples_leaf': [1, 2, 4],\n",
        " 'min_samples_split': [2, 5, 10],\n",
        " 'n_estimators': [200, 400, 600, 800, 1000, 1200, 1400, 1600, 1800, 2000]}"
      ],
      "metadata": {
        "id": "8WDTbwwJ_FrQ"
      },
      "execution_count": null,
      "outputs": []
    },
    {
      "cell_type": "code",
      "source": [
        "grid_cv = RandomizedSearchCV(rf, params_grid, scoring=\"f1\", n_jobs=-1, cv=3)\n",
        "grid_cv.fit(X_train, y_train)\n",
        "\n",
        "print(\"Mejores parametros\", grid_cv.best_params_)\n",
        "print(\"Mejor score de CV\", grid_cv.best_score_)\n",
        "#print(f'Sensibilidad del modelo = {round(recall_score(y_test, grid_cv.predict(X_test)), 5)}')\n",
        "#print(f'F1 del modelo = {round(f1_score(y_test, grid_cv.predict(X_test)), 5)}')"
      ],
      "metadata": {
        "id": "yS8u-nL0_Ft0"
      },
      "execution_count": null,
      "outputs": []
    },
    {
      "cell_type": "markdown",
      "source": [
        "Conclusion Final\n"
      ],
      "metadata": {
        "id": "LtrqAfQoB3uf"
      }
    }
  ]
}